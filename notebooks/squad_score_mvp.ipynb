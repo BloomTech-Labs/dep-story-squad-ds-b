{
 "cells": [
  {
   "cell_type": "code",
   "execution_count": 2,
   "metadata": {},
   "outputs": [],
   "source": [
    "# Package imports\n",
    "import glob\n",
    "import joblib\n",
    "\n",
    "import textstat\n",
    "import pandas as pd\n",
    "import matplotlib.pyplot as plt\n",
    "import seaborn as sns\n",
    "from sklearn.preprocessing import StandardScaler\n",
    "from sklearn.metrics import mean_absolute_error as mae\n",
    "from sklearn.metrics import mean_squared_error as mse"
   ]
  },
  {
   "cell_type": "code",
   "execution_count": 3,
   "metadata": {},
   "outputs": [],
   "source": [
    "# Import API-transcribed stories\n",
    "api_t = pd.read_csv(\"transcribed_stories.csv\", \n",
    "            usecols=[1,2],\n",
    "            header=0,\n",
    "            names=[\"story_id\", \"transcription\"],\n",
    "            dtype=str)"
   ]
  },
  {
   "cell_type": "code",
   "execution_count": 5,
   "metadata": {},
   "outputs": [
    {
     "output_type": "execute_result",
     "data": {
      "text/plain": "  story_id                                      transcription\n0     3132  Page. I 3132 Once there was a little cheatah a...\n1     3104  3106 D she was very, a berenang The pony that ...\n2     3103  3103 Rainbow the Unica unicom named some een P...\n3     3117  3117 O gum drop land gumdrop. land is prace We...\n4     3102  3102 The secret fifth grade E am Anella I am s...",
      "text/html": "<div>\n<style scoped>\n    .dataframe tbody tr th:only-of-type {\n        vertical-align: middle;\n    }\n\n    .dataframe tbody tr th {\n        vertical-align: top;\n    }\n\n    .dataframe thead th {\n        text-align: right;\n    }\n</style>\n<table border=\"1\" class=\"dataframe\">\n  <thead>\n    <tr style=\"text-align: right;\">\n      <th></th>\n      <th>story_id</th>\n      <th>transcription</th>\n    </tr>\n  </thead>\n  <tbody>\n    <tr>\n      <th>0</th>\n      <td>3132</td>\n      <td>Page. I 3132 Once there was a little cheatah a...</td>\n    </tr>\n    <tr>\n      <th>1</th>\n      <td>3104</td>\n      <td>3106 D she was very, a berenang The pony that ...</td>\n    </tr>\n    <tr>\n      <th>2</th>\n      <td>3103</td>\n      <td>3103 Rainbow the Unica unicom named some een P...</td>\n    </tr>\n    <tr>\n      <th>3</th>\n      <td>3117</td>\n      <td>3117 O gum drop land gumdrop. land is prace We...</td>\n    </tr>\n    <tr>\n      <th>4</th>\n      <td>3102</td>\n      <td>3102 The secret fifth grade E am Anella I am s...</td>\n    </tr>\n  </tbody>\n</table>\n</div>"
     },
     "metadata": {},
     "execution_count": 5
    }
   ],
   "source": [
    "api_t.head()"
   ]
  },
  {
   "cell_type": "code",
   "execution_count": 6,
   "metadata": {},
   "outputs": [],
   "source": [
    "# Compile human-transcribed stories\n",
    "\n",
    "root = \"../../Transcribed Stories/\"\n",
    "\n",
    "transcriptions = []\n",
    "\n",
    "for file in glob.glob(root + '**/**/Story*[3000-5999]*'):\n",
    "    with open((file), 'r') as file:\n",
    "        story_id = file.name[-4:]\n",
    "        transcription = file.read().replace('\\n', ' ')\n",
    "        transcriptions.append((story_id, transcription))"
   ]
  },
  {
   "cell_type": "code",
   "execution_count": 7,
   "metadata": {},
   "outputs": [],
   "source": [
    "# Generate dataframe of transcriptions\n",
    "cols = ['story_id', 'transcription']\n",
    "human_t = pd.DataFrame(transcriptions, columns=cols)"
   ]
  },
  {
   "cell_type": "code",
   "execution_count": 8,
   "metadata": {},
   "outputs": [],
   "source": [
    "def calc_metrics(df):\n",
    "    \"\"\" \n",
    "    Cleans transcriptions and adds various metrics as columns.\n",
    "    \"\"\"\n",
    "    # Avoid SettingWithCopy error\n",
    "    df = df.copy()\n",
    "    \n",
    "    \n",
    "    # Clean potential transcription errors\n",
    "\n",
    "    # Strip leading or tailing spaces and integers \n",
    "    df[\"transcription\"] = df[\"transcription\"].str.strip().str.strip('/-0123456789')\n",
    "    \n",
    "    # Ensure all commas and periods are followed by a space\n",
    "    df[\"transcription\"] = df[\"transcription\"].str.replace(\".\", \". \").str.replace(\",\", \", \")\n",
    "    \n",
    "    # Remove any instances of multiple spaces\n",
    "    df[\"transcription\"] = df[\"transcription\"].str.split().str.join(\" \")\n",
    "    \n",
    "    \n",
    "    # Add metrics\n",
    "    \n",
    "    # Grade level\n",
    "    df[\"grade_level\"] = df[\"story_id\"].str[0]\n",
    "\n",
    "    # Length of story\n",
    "    df[\"story_length\"] = df[\"transcription\"].str.len()\n",
    "    \n",
    "    # Average word length\n",
    "    word_count = (df[\"transcription\"].str.split()).str.len()\n",
    "    df[\"avg_word_len\"] = df[\"story_length\"] / word_count\n",
    "    \n",
    "    # Number of quotation marks\n",
    "    df[\"quotes_number\"] = df[\"transcription\"].str.count('\"')\n",
    "    \n",
    "    # Percentage of complex words, based on textstat's automated function\n",
    "    # Compares to list of 3000 most commonuly used English words\n",
    "    # Number of words in story that are not on that list are considered \"complex\"\n",
    "    # Note: prone to errors, may need to be iterated on to be production-grade\n",
    "    num_complex_words = df[\"transcription\"].apply(textstat.difficult_words)\n",
    "    df[\"percent_complex_words\"] = num_complex_words / word_count * 100\n",
    "    \n",
    "    return df"
   ]
  },
  {
   "cell_type": "code",
   "execution_count": 9,
   "metadata": {},
   "outputs": [],
   "source": [
    "# Calculate both API and human transcription metrics\n",
    "human_metrics = calc_metrics(human_t)\n",
    "api_metrics = calc_metrics(api_t)"
   ]
  },
  {
   "cell_type": "code",
   "execution_count": 10,
   "metadata": {},
   "outputs": [
    {
     "output_type": "execute_result",
     "data": {
      "text/plain": "  story_id                                      transcription grade_level  \\\n0     3101  Once apon a time there was a girl named Mary. ...           3   \n\n   story_length  avg_word_len  quotes_number  percent_complex_words  \n0          1675           5.0              3               7.164179  ",
      "text/html": "<div>\n<style scoped>\n    .dataframe tbody tr th:only-of-type {\n        vertical-align: middle;\n    }\n\n    .dataframe tbody tr th {\n        vertical-align: top;\n    }\n\n    .dataframe thead th {\n        text-align: right;\n    }\n</style>\n<table border=\"1\" class=\"dataframe\">\n  <thead>\n    <tr style=\"text-align: right;\">\n      <th></th>\n      <th>story_id</th>\n      <th>transcription</th>\n      <th>grade_level</th>\n      <th>story_length</th>\n      <th>avg_word_len</th>\n      <th>quotes_number</th>\n      <th>percent_complex_words</th>\n    </tr>\n  </thead>\n  <tbody>\n    <tr>\n      <th>0</th>\n      <td>3101</td>\n      <td>Once apon a time there was a girl named Mary. ...</td>\n      <td>3</td>\n      <td>1675</td>\n      <td>5.0</td>\n      <td>3</td>\n      <td>7.164179</td>\n    </tr>\n  </tbody>\n</table>\n</div>"
     },
     "metadata": {},
     "execution_count": 10
    }
   ],
   "source": [
    "human_metrics.head(1)"
   ]
  },
  {
   "cell_type": "code",
   "execution_count": 11,
   "metadata": {},
   "outputs": [
    {
     "output_type": "execute_result",
     "data": {
      "text/plain": "  story_id                                      transcription grade_level  \\\n0     3132  Page. I 3132 Once there was a little cheatah a...           3   \n\n   story_length  avg_word_len  quotes_number  percent_complex_words  \n0          1375      5.092593              6               4.814815  ",
      "text/html": "<div>\n<style scoped>\n    .dataframe tbody tr th:only-of-type {\n        vertical-align: middle;\n    }\n\n    .dataframe tbody tr th {\n        vertical-align: top;\n    }\n\n    .dataframe thead th {\n        text-align: right;\n    }\n</style>\n<table border=\"1\" class=\"dataframe\">\n  <thead>\n    <tr style=\"text-align: right;\">\n      <th></th>\n      <th>story_id</th>\n      <th>transcription</th>\n      <th>grade_level</th>\n      <th>story_length</th>\n      <th>avg_word_len</th>\n      <th>quotes_number</th>\n      <th>percent_complex_words</th>\n    </tr>\n  </thead>\n  <tbody>\n    <tr>\n      <th>0</th>\n      <td>3132</td>\n      <td>Page. I 3132 Once there was a little cheatah a...</td>\n      <td>3</td>\n      <td>1375</td>\n      <td>5.092593</td>\n      <td>6</td>\n      <td>4.814815</td>\n    </tr>\n  </tbody>\n</table>\n</div>"
     },
     "metadata": {},
     "execution_count": 11
    }
   ],
   "source": [
    "api_metrics.head(1)"
   ]
  },
  {
   "cell_type": "code",
   "execution_count": 12,
   "metadata": {},
   "outputs": [
    {
     "output_type": "execute_result",
     "data": {
      "text/plain": "StandardScaler(copy=True, with_mean=True, with_std=True)"
     },
     "metadata": {},
     "execution_count": 12
    }
   ],
   "source": [
    "scaler_h = StandardScaler()\n",
    "scaler_h.fit(human_metrics.iloc[:,3:])\n",
    "\n",
    "# Uncomment line below to pickle scaler for future use\n",
    "# joblib.dump(scaler_h, \"scaler_h.pkl\")"
   ]
  },
  {
   "cell_type": "code",
   "execution_count": 13,
   "metadata": {},
   "outputs": [
    {
     "output_type": "execute_result",
     "data": {
      "text/plain": "StandardScaler(copy=True, with_mean=True, with_std=True)"
     },
     "metadata": {},
     "execution_count": 13
    }
   ],
   "source": [
    "scaler_api = StandardScaler()\n",
    "scaler_api.fit(api_metrics.iloc[:,3:])\n",
    "\n",
    "# Uncomment line below to pickle scaler for future use\n",
    "# joblib.dump(scaler_api, \"scaler_api.pkl\")"
   ]
  },
  {
   "cell_type": "code",
   "execution_count": 14,
   "metadata": {},
   "outputs": [],
   "source": [
    "def scale_row(row, transcription_source):\n",
    "    \"\"\"\n",
    "    Takes one row and scales it according to corresponding scaler.\n",
    "    \n",
    "    This function is integrated into the squad_score function\n",
    "    \n",
    "    row: full row of dataframe or a list\n",
    "    transcription_source (str): \"api\" or \"human\" based on source of transcription\n",
    "    \"\"\"\n",
    "    if transcription_source == \"api\":\n",
    "        scaler = scaler_api\n",
    "    elif transcription_source == \"human\":\n",
    "        scaler = scaler_h\n",
    "    else:\n",
    "        raise ValueError(\"Not a valid transcription source. Valid options: 'api' or 'human'.\")\n",
    "    \n",
    "    return scaler.transform([row[3:]])"
   ]
  },
  {
   "cell_type": "code",
   "execution_count": 15,
   "metadata": {},
   "outputs": [
    {
     "output_type": "execute_result",
     "data": {
      "text/plain": "array([[ 0.14899145,  0.06957414, -0.29738429, -1.13566709]])"
     },
     "metadata": {},
     "execution_count": 15
    }
   ],
   "source": [
    "# Test on API transcription sample\n",
    "test_row = api_metrics.iloc[0]\n",
    "scale_row(test_row, \"api\")"
   ]
  },
  {
   "cell_type": "code",
   "execution_count": 16,
   "metadata": {},
   "outputs": [
    {
     "output_type": "execute_result",
     "data": {
      "text/plain": "array([[ 0.57113154, -0.45854483, -0.89889175, -0.03568899]])"
     },
     "metadata": {},
     "execution_count": 16
    }
   ],
   "source": [
    "# Test on human transcription sample\n",
    "test_row = human_metrics.iloc[0]\n",
    "scale_row(test_row, \"human\")"
   ]
  },
  {
   "cell_type": "code",
   "execution_count": 17,
   "metadata": {},
   "outputs": [
    {
     "output_type": "execute_result",
     "data": {
      "text/plain": "story_id                                                              3101\ntranscription            Once apon a time there was a girl named Mary. ...\ngrade_level                                                              3\nstory_length                                                          1675\navg_word_len                                                             5\nquotes_number                                                            3\npercent_complex_words                                              7.16418\nName: 0, dtype: object"
     },
     "metadata": {},
     "execution_count": 17
    }
   ],
   "source": [
    "test_row"
   ]
  },
  {
   "cell_type": "code",
   "execution_count": 18,
   "metadata": {},
   "outputs": [],
   "source": [
    "def squad_score(row, transcription_source):\n",
    "    \"\"\"\n",
    "    Scales, weights, and adds all metrics for a given transcription.\n",
    "    \n",
    "    Scales according to transcription source (see scale_row function).\n",
    "    Weights according to presribed weights used only for Story Squad analysis.\n",
    "    \n",
    "    row: full row of dataframe or a list\n",
    "    transcription_source (str): \"api\" or \"human\" based on source of transcription\n",
    "    \"\"\"\n",
    "    \n",
    "    # Instantiate weights\n",
    "    weights = {\"grade_level\": .5,\n",
    "              \"story_length\": 1,\n",
    "              \"avg_word_len\": 1,\n",
    "              \"quotes_number\": 1,\n",
    "              \"percent_complex_words\": 0}\n",
    "    \n",
    "    # Scale needed metrics\n",
    "    scaled = scale_row(row, transcription_source)[0]\n",
    "    \n",
    "    # Weight values\n",
    "    gl = weights[\"grade_level\"] * int(row[2])\n",
    "    sl = weights[\"story_length\"] * scaled[0]\n",
    "    awl = weights[\"avg_word_len\"] * scaled[1]\n",
    "    qn = weights[\"quotes_number\"] * scaled[2]\n",
    "    pcw = weights[\"quotes_number\"] * scaled[3]\n",
    "    \n",
    "    # Add all values\n",
    "    s_score = gl + sl + awl + qn + pcw\n",
    "    \n",
    "    return s_score"
   ]
  },
  {
   "cell_type": "code",
   "execution_count": 19,
   "metadata": {},
   "outputs": [
    {
     "output_type": "error",
     "ename": "ValueError",
     "evalue": "invalid literal for int() with base 10: 'e'",
     "traceback": [
      "\u001b[0;31m---------------------------------------------------------------------------\u001b[0m",
      "\u001b[0;31mValueError\u001b[0m                                Traceback (most recent call last)",
      "\u001b[0;32m<ipython-input-19-7659e2936999>\u001b[0m in \u001b[0;36m<module>\u001b[0;34m\u001b[0m\n\u001b[1;32m      1\u001b[0m \u001b[0mh_squad_score\u001b[0m \u001b[0;34m=\u001b[0m \u001b[0mhuman_metrics\u001b[0m\u001b[0;34m[\u001b[0m\u001b[0;34m[\u001b[0m\u001b[0;34m\"story_id\"\u001b[0m\u001b[0;34m]\u001b[0m\u001b[0;34m]\u001b[0m\u001b[0;34m.\u001b[0m\u001b[0mcopy\u001b[0m\u001b[0;34m(\u001b[0m\u001b[0;34m)\u001b[0m\u001b[0;34m\u001b[0m\u001b[0;34m\u001b[0m\u001b[0m\n\u001b[0;32m----> 2\u001b[0;31m \u001b[0mh_squad_score\u001b[0m\u001b[0;34m[\u001b[0m\u001b[0;34m\"squad_score\"\u001b[0m\u001b[0;34m]\u001b[0m \u001b[0;34m=\u001b[0m \u001b[0mhuman_metrics\u001b[0m\u001b[0;34m.\u001b[0m\u001b[0mapply\u001b[0m\u001b[0;34m(\u001b[0m\u001b[0;32mlambda\u001b[0m \u001b[0mx\u001b[0m\u001b[0;34m:\u001b[0m \u001b[0msquad_score\u001b[0m\u001b[0;34m(\u001b[0m\u001b[0mx\u001b[0m\u001b[0;34m,\u001b[0m \u001b[0;34m\"human\"\u001b[0m\u001b[0;34m)\u001b[0m\u001b[0;34m,\u001b[0m \u001b[0maxis\u001b[0m\u001b[0;34m=\u001b[0m\u001b[0;36m1\u001b[0m\u001b[0;34m)\u001b[0m\u001b[0;34m\u001b[0m\u001b[0;34m\u001b[0m\u001b[0m\n\u001b[0m",
      "\u001b[0;32m~/opt/conda/envs/ds-base/lib/python3.7/site-packages/pandas/core/frame.py\u001b[0m in \u001b[0;36mapply\u001b[0;34m(self, func, axis, raw, result_type, args, **kwds)\u001b[0m\n\u001b[1;32m   7539\u001b[0m             \u001b[0mkwds\u001b[0m\u001b[0;34m=\u001b[0m\u001b[0mkwds\u001b[0m\u001b[0;34m,\u001b[0m\u001b[0;34m\u001b[0m\u001b[0;34m\u001b[0m\u001b[0m\n\u001b[1;32m   7540\u001b[0m         )\n\u001b[0;32m-> 7541\u001b[0;31m         \u001b[0;32mreturn\u001b[0m \u001b[0mop\u001b[0m\u001b[0;34m.\u001b[0m\u001b[0mget_result\u001b[0m\u001b[0;34m(\u001b[0m\u001b[0;34m)\u001b[0m\u001b[0;34m\u001b[0m\u001b[0;34m\u001b[0m\u001b[0m\n\u001b[0m\u001b[1;32m   7542\u001b[0m \u001b[0;34m\u001b[0m\u001b[0m\n\u001b[1;32m   7543\u001b[0m     \u001b[0;32mdef\u001b[0m \u001b[0mapplymap\u001b[0m\u001b[0;34m(\u001b[0m\u001b[0mself\u001b[0m\u001b[0;34m,\u001b[0m \u001b[0mfunc\u001b[0m\u001b[0;34m)\u001b[0m \u001b[0;34m->\u001b[0m \u001b[0;34m\"DataFrame\"\u001b[0m\u001b[0;34m:\u001b[0m\u001b[0;34m\u001b[0m\u001b[0;34m\u001b[0m\u001b[0m\n",
      "\u001b[0;32m~/opt/conda/envs/ds-base/lib/python3.7/site-packages/pandas/core/apply.py\u001b[0m in \u001b[0;36mget_result\u001b[0;34m(self)\u001b[0m\n\u001b[1;32m    178\u001b[0m             \u001b[0;32mreturn\u001b[0m \u001b[0mself\u001b[0m\u001b[0;34m.\u001b[0m\u001b[0mapply_raw\u001b[0m\u001b[0;34m(\u001b[0m\u001b[0;34m)\u001b[0m\u001b[0;34m\u001b[0m\u001b[0;34m\u001b[0m\u001b[0m\n\u001b[1;32m    179\u001b[0m \u001b[0;34m\u001b[0m\u001b[0m\n\u001b[0;32m--> 180\u001b[0;31m         \u001b[0;32mreturn\u001b[0m \u001b[0mself\u001b[0m\u001b[0;34m.\u001b[0m\u001b[0mapply_standard\u001b[0m\u001b[0;34m(\u001b[0m\u001b[0;34m)\u001b[0m\u001b[0;34m\u001b[0m\u001b[0;34m\u001b[0m\u001b[0m\n\u001b[0m\u001b[1;32m    181\u001b[0m \u001b[0;34m\u001b[0m\u001b[0m\n\u001b[1;32m    182\u001b[0m     \u001b[0;32mdef\u001b[0m \u001b[0mapply_empty_result\u001b[0m\u001b[0;34m(\u001b[0m\u001b[0mself\u001b[0m\u001b[0;34m)\u001b[0m\u001b[0;34m:\u001b[0m\u001b[0;34m\u001b[0m\u001b[0;34m\u001b[0m\u001b[0m\n",
      "\u001b[0;32m~/opt/conda/envs/ds-base/lib/python3.7/site-packages/pandas/core/apply.py\u001b[0m in \u001b[0;36mapply_standard\u001b[0;34m(self)\u001b[0m\n\u001b[1;32m    253\u001b[0m \u001b[0;34m\u001b[0m\u001b[0m\n\u001b[1;32m    254\u001b[0m     \u001b[0;32mdef\u001b[0m \u001b[0mapply_standard\u001b[0m\u001b[0;34m(\u001b[0m\u001b[0mself\u001b[0m\u001b[0;34m)\u001b[0m\u001b[0;34m:\u001b[0m\u001b[0;34m\u001b[0m\u001b[0;34m\u001b[0m\u001b[0m\n\u001b[0;32m--> 255\u001b[0;31m         \u001b[0mresults\u001b[0m\u001b[0;34m,\u001b[0m \u001b[0mres_index\u001b[0m \u001b[0;34m=\u001b[0m \u001b[0mself\u001b[0m\u001b[0;34m.\u001b[0m\u001b[0mapply_series_generator\u001b[0m\u001b[0;34m(\u001b[0m\u001b[0;34m)\u001b[0m\u001b[0;34m\u001b[0m\u001b[0;34m\u001b[0m\u001b[0m\n\u001b[0m\u001b[1;32m    256\u001b[0m \u001b[0;34m\u001b[0m\u001b[0m\n\u001b[1;32m    257\u001b[0m         \u001b[0;31m# wrap results\u001b[0m\u001b[0;34m\u001b[0m\u001b[0;34m\u001b[0m\u001b[0;34m\u001b[0m\u001b[0m\n",
      "\u001b[0;32m~/opt/conda/envs/ds-base/lib/python3.7/site-packages/pandas/core/apply.py\u001b[0m in \u001b[0;36mapply_series_generator\u001b[0;34m(self)\u001b[0m\n\u001b[1;32m    282\u001b[0m                 \u001b[0;32mfor\u001b[0m \u001b[0mi\u001b[0m\u001b[0;34m,\u001b[0m \u001b[0mv\u001b[0m \u001b[0;32min\u001b[0m \u001b[0menumerate\u001b[0m\u001b[0;34m(\u001b[0m\u001b[0mseries_gen\u001b[0m\u001b[0;34m)\u001b[0m\u001b[0;34m:\u001b[0m\u001b[0;34m\u001b[0m\u001b[0;34m\u001b[0m\u001b[0m\n\u001b[1;32m    283\u001b[0m                     \u001b[0;31m# ignore SettingWithCopy here in case the user mutates\u001b[0m\u001b[0;34m\u001b[0m\u001b[0;34m\u001b[0m\u001b[0;34m\u001b[0m\u001b[0m\n\u001b[0;32m--> 284\u001b[0;31m                     \u001b[0mresults\u001b[0m\u001b[0;34m[\u001b[0m\u001b[0mi\u001b[0m\u001b[0;34m]\u001b[0m \u001b[0;34m=\u001b[0m \u001b[0mself\u001b[0m\u001b[0;34m.\u001b[0m\u001b[0mf\u001b[0m\u001b[0;34m(\u001b[0m\u001b[0mv\u001b[0m\u001b[0;34m)\u001b[0m\u001b[0;34m\u001b[0m\u001b[0;34m\u001b[0m\u001b[0m\n\u001b[0m\u001b[1;32m    285\u001b[0m                     \u001b[0;32mif\u001b[0m \u001b[0misinstance\u001b[0m\u001b[0;34m(\u001b[0m\u001b[0mresults\u001b[0m\u001b[0;34m[\u001b[0m\u001b[0mi\u001b[0m\u001b[0;34m]\u001b[0m\u001b[0;34m,\u001b[0m \u001b[0mABCSeries\u001b[0m\u001b[0;34m)\u001b[0m\u001b[0;34m:\u001b[0m\u001b[0;34m\u001b[0m\u001b[0;34m\u001b[0m\u001b[0m\n\u001b[1;32m    286\u001b[0m                         \u001b[0;31m# If we have a view on v, we need to make a copy because\u001b[0m\u001b[0;34m\u001b[0m\u001b[0;34m\u001b[0m\u001b[0;34m\u001b[0m\u001b[0m\n",
      "\u001b[0;32m<ipython-input-19-7659e2936999>\u001b[0m in \u001b[0;36m<lambda>\u001b[0;34m(x)\u001b[0m\n\u001b[1;32m      1\u001b[0m \u001b[0mh_squad_score\u001b[0m \u001b[0;34m=\u001b[0m \u001b[0mhuman_metrics\u001b[0m\u001b[0;34m[\u001b[0m\u001b[0;34m[\u001b[0m\u001b[0;34m\"story_id\"\u001b[0m\u001b[0;34m]\u001b[0m\u001b[0;34m]\u001b[0m\u001b[0;34m.\u001b[0m\u001b[0mcopy\u001b[0m\u001b[0;34m(\u001b[0m\u001b[0;34m)\u001b[0m\u001b[0;34m\u001b[0m\u001b[0;34m\u001b[0m\u001b[0m\n\u001b[0;32m----> 2\u001b[0;31m \u001b[0mh_squad_score\u001b[0m\u001b[0;34m[\u001b[0m\u001b[0;34m\"squad_score\"\u001b[0m\u001b[0;34m]\u001b[0m \u001b[0;34m=\u001b[0m \u001b[0mhuman_metrics\u001b[0m\u001b[0;34m.\u001b[0m\u001b[0mapply\u001b[0m\u001b[0;34m(\u001b[0m\u001b[0;32mlambda\u001b[0m \u001b[0mx\u001b[0m\u001b[0;34m:\u001b[0m \u001b[0msquad_score\u001b[0m\u001b[0;34m(\u001b[0m\u001b[0mx\u001b[0m\u001b[0;34m,\u001b[0m \u001b[0;34m\"human\"\u001b[0m\u001b[0;34m)\u001b[0m\u001b[0;34m,\u001b[0m \u001b[0maxis\u001b[0m\u001b[0;34m=\u001b[0m\u001b[0;36m1\u001b[0m\u001b[0;34m)\u001b[0m\u001b[0;34m\u001b[0m\u001b[0;34m\u001b[0m\u001b[0m\n\u001b[0m",
      "\u001b[0;32m<ipython-input-18-24b3525f54a7>\u001b[0m in \u001b[0;36msquad_score\u001b[0;34m(row, transcription_source)\u001b[0m\n\u001b[1;32m     21\u001b[0m \u001b[0;34m\u001b[0m\u001b[0m\n\u001b[1;32m     22\u001b[0m     \u001b[0;31m# Weight values\u001b[0m\u001b[0;34m\u001b[0m\u001b[0;34m\u001b[0m\u001b[0;34m\u001b[0m\u001b[0m\n\u001b[0;32m---> 23\u001b[0;31m     \u001b[0mgl\u001b[0m \u001b[0;34m=\u001b[0m \u001b[0mweights\u001b[0m\u001b[0;34m[\u001b[0m\u001b[0;34m\"grade_level\"\u001b[0m\u001b[0;34m]\u001b[0m \u001b[0;34m*\u001b[0m \u001b[0mint\u001b[0m\u001b[0;34m(\u001b[0m\u001b[0mrow\u001b[0m\u001b[0;34m[\u001b[0m\u001b[0;36m2\u001b[0m\u001b[0;34m]\u001b[0m\u001b[0;34m)\u001b[0m\u001b[0;34m\u001b[0m\u001b[0;34m\u001b[0m\u001b[0m\n\u001b[0m\u001b[1;32m     24\u001b[0m     \u001b[0msl\u001b[0m \u001b[0;34m=\u001b[0m \u001b[0mweights\u001b[0m\u001b[0;34m[\u001b[0m\u001b[0;34m\"story_length\"\u001b[0m\u001b[0;34m]\u001b[0m \u001b[0;34m*\u001b[0m \u001b[0mscaled\u001b[0m\u001b[0;34m[\u001b[0m\u001b[0;36m0\u001b[0m\u001b[0;34m]\u001b[0m\u001b[0;34m\u001b[0m\u001b[0;34m\u001b[0m\u001b[0m\n\u001b[1;32m     25\u001b[0m     \u001b[0mawl\u001b[0m \u001b[0;34m=\u001b[0m \u001b[0mweights\u001b[0m\u001b[0;34m[\u001b[0m\u001b[0;34m\"avg_word_len\"\u001b[0m\u001b[0;34m]\u001b[0m \u001b[0;34m*\u001b[0m \u001b[0mscaled\u001b[0m\u001b[0;34m[\u001b[0m\u001b[0;36m1\u001b[0m\u001b[0;34m]\u001b[0m\u001b[0;34m\u001b[0m\u001b[0;34m\u001b[0m\u001b[0m\n",
      "\u001b[0;31mValueError\u001b[0m: invalid literal for int() with base 10: 'e'"
     ]
    }
   ],
   "source": [
    "h_squad_score = human_metrics[[\"story_id\"]].copy()\n",
    "h_squad_score[\"squad_score\"] = human_metrics.apply(lambda x: squad_score(x, \"human\"), axis=1)"
   ]
  },
  {
   "cell_type": "code",
   "execution_count": 20,
   "metadata": {},
   "outputs": [],
   "source": [
    "api_squad_score = api_metrics[[\"story_id\"]].copy()\n",
    "api_squad_score[\"squad_score\"] = api_metrics.apply(lambda x: squad_score(x, \"api\"), axis=1)"
   ]
  },
  {
   "cell_type": "code",
   "execution_count": 21,
   "metadata": {},
   "outputs": [
    {
     "output_type": "execute_result",
     "data": {
      "text/plain": "  story_id  squad_score\n0     3132     0.285514",
      "text/html": "<div>\n<style scoped>\n    .dataframe tbody tr th:only-of-type {\n        vertical-align: middle;\n    }\n\n    .dataframe tbody tr th {\n        vertical-align: top;\n    }\n\n    .dataframe thead th {\n        text-align: right;\n    }\n</style>\n<table border=\"1\" class=\"dataframe\">\n  <thead>\n    <tr style=\"text-align: right;\">\n      <th></th>\n      <th>story_id</th>\n      <th>squad_score</th>\n    </tr>\n  </thead>\n  <tbody>\n    <tr>\n      <th>0</th>\n      <td>3132</td>\n      <td>0.285514</td>\n    </tr>\n  </tbody>\n</table>\n</div>"
     },
     "metadata": {},
     "execution_count": 21
    }
   ],
   "source": [
    "api_squad_score.head(1)"
   ]
  },
  {
   "cell_type": "code",
   "execution_count": 22,
   "metadata": {},
   "outputs": [
    {
     "output_type": "execute_result",
     "data": {
      "text/plain": "       story_id\ncount       167\nunique      166\ntop        e 2)\nfreq          2",
      "text/html": "<div>\n<style scoped>\n    .dataframe tbody tr th:only-of-type {\n        vertical-align: middle;\n    }\n\n    .dataframe tbody tr th {\n        vertical-align: top;\n    }\n\n    .dataframe thead th {\n        text-align: right;\n    }\n</style>\n<table border=\"1\" class=\"dataframe\">\n  <thead>\n    <tr style=\"text-align: right;\">\n      <th></th>\n      <th>story_id</th>\n    </tr>\n  </thead>\n  <tbody>\n    <tr>\n      <th>count</th>\n      <td>167</td>\n    </tr>\n    <tr>\n      <th>unique</th>\n      <td>166</td>\n    </tr>\n    <tr>\n      <th>top</th>\n      <td>e 2)</td>\n    </tr>\n    <tr>\n      <th>freq</th>\n      <td>2</td>\n    </tr>\n  </tbody>\n</table>\n</div>"
     },
     "metadata": {},
     "execution_count": 22
    }
   ],
   "source": [
    "h_squad_score.describe()"
   ]
  },
  {
   "cell_type": "code",
   "execution_count": 23,
   "metadata": {},
   "outputs": [
    {
     "output_type": "execute_result",
     "data": {
      "text/plain": "       squad_score\ncount   167.000000\nmean      2.032934\nstd       2.858062\nmin      -5.552245\n25%      -0.005359\n50%       1.520727\n75%       3.851089\nmax      11.516403",
      "text/html": "<div>\n<style scoped>\n    .dataframe tbody tr th:only-of-type {\n        vertical-align: middle;\n    }\n\n    .dataframe tbody tr th {\n        vertical-align: top;\n    }\n\n    .dataframe thead th {\n        text-align: right;\n    }\n</style>\n<table border=\"1\" class=\"dataframe\">\n  <thead>\n    <tr style=\"text-align: right;\">\n      <th></th>\n      <th>squad_score</th>\n    </tr>\n  </thead>\n  <tbody>\n    <tr>\n      <th>count</th>\n      <td>167.000000</td>\n    </tr>\n    <tr>\n      <th>mean</th>\n      <td>2.032934</td>\n    </tr>\n    <tr>\n      <th>std</th>\n      <td>2.858062</td>\n    </tr>\n    <tr>\n      <th>min</th>\n      <td>-5.552245</td>\n    </tr>\n    <tr>\n      <th>25%</th>\n      <td>-0.005359</td>\n    </tr>\n    <tr>\n      <th>50%</th>\n      <td>1.520727</td>\n    </tr>\n    <tr>\n      <th>75%</th>\n      <td>3.851089</td>\n    </tr>\n    <tr>\n      <th>max</th>\n      <td>11.516403</td>\n    </tr>\n  </tbody>\n</table>\n</div>"
     },
     "metadata": {},
     "execution_count": 23
    }
   ],
   "source": [
    "api_squad_score.describe()"
   ]
  },
  {
   "cell_type": "code",
   "execution_count": 152,
   "metadata": {},
   "outputs": [
    {
     "data": {
      "image/png": "[encoded data removed]",
      "text/plain": [
       "<Figure size 432x288 with 1 Axes>"
      ]
     },
     "metadata": {
      "needs_background": "light"
     },
     "output_type": "display_data"
    }
   ],
   "source": [
    "ax = sns.distplot(h_squad_score[\"squad_score\"])\n",
    "plt.title(\"Distribution of Squad Scores on Human Transcriptions\")\n",
    "plt.show()"
   ]
  },
  {
   "cell_type": "code",
   "execution_count": 24,
   "metadata": {},
   "outputs": [
    {
     "output_type": "display_data",
     "data": {
      "text/plain": "<Figure size 432x288 with 1 Axes>",
      "image/svg+xml": "<?xml version=\"1.0\" encoding=\"utf-8\" standalone=\"no\"?>\n<!DOCTYPE svg PUBLIC \"-//W3C//DTD SVG 1.1//EN\"\n  \"http://www.w3.org/Graphics/SVG/1.1/DTD/svg11.dtd\">\n<!-- Created with matplotlib (https://matplotlib.org/) -->\n<svg height=\"277.5925pt\" version=\"1.1\" viewBox=\"0 0 384.828125 277.5925\" width=\"384.828125pt\" xmlns=\"http://www.w3.org/2000/svg\" xmlns:xlink=\"http://www.w3.org/1999/xlink\">\n <defs>\n  <style type=\"text/css\">\n*{stroke-linecap:butt;stroke-linejoin:round;}\n  </style>\n </defs>\n <g id=\"figure_1\">\n  <g id=\"patch_1\">\n   <path d=\"M 0 277.5925 \nL 384.828125 277.5925 \nL 384.828125 0 \nL 0 0 \nz\n\" style=\"fill:none;\"/>\n  </g>\n  <g id=\"axes_1\">\n   <g id=\"patch_2\">\n    <path d=\"M 42.828125 239.758125 \nL 377.628125 239.758125 \nL 377.628125 22.318125 \nL 42.828125 22.318125 \nz\n\" style=\"fill:#ffffff;\"/>\n   </g>\n   <g id=\"patch_3\">\n    <path clip-path=\"url(#pf3decb19d9)\" d=\"M 100.132978 239.758125 \nL 117.070693 239.758125 \nL 117.070693 234.580982 \nL 100.132978 234.580982 \nz\n\" style=\"fill:#1f77b4;opacity:0.4;\"/>\n   </g>\n   <g id=\"patch_4\">\n    <path clip-path=\"url(#pf3decb19d9)\" d=\"M 117.070693 239.758125 \nL 134.008408 239.758125 \nL 134.008408 229.403839 \nL 117.070693 229.403839 \nz\n\" style=\"fill:#1f77b4;opacity:0.4;\"/>\n   </g>\n   <g id=\"patch_5\">\n    <path clip-path=\"url(#pf3decb19d9)\" d=\"M 134.008408 239.758125 \nL 150.946123 239.758125 \nL 150.946123 182.809554 \nL 134.008408 182.809554 \nz\n\" style=\"fill:#1f77b4;opacity:0.4;\"/>\n   </g>\n   <g id=\"patch_6\">\n    <path clip-path=\"url(#pf3decb19d9)\" d=\"M 150.946123 239.758125 \nL 167.883838 239.758125 \nL 167.883838 146.569554 \nL 150.946123 146.569554 \nz\n\" style=\"fill:#1f77b4;opacity:0.4;\"/>\n   </g>\n   <g id=\"patch_7\">\n    <path clip-path=\"url(#pf3decb19d9)\" d=\"M 167.883838 239.758125 \nL 184.821553 239.758125 \nL 184.821553 32.672411 \nL 167.883838 32.672411 \nz\n\" style=\"fill:#1f77b4;opacity:0.4;\"/>\n   </g>\n   <g id=\"patch_8\">\n    <path clip-path=\"url(#pf3decb19d9)\" d=\"M 184.821553 239.758125 \nL 201.759268 239.758125 \nL 201.759268 141.392411 \nL 184.821553 141.392411 \nz\n\" style=\"fill:#1f77b4;opacity:0.4;\"/>\n   </g>\n   <g id=\"patch_9\">\n    <path clip-path=\"url(#pf3decb19d9)\" d=\"M 201.759268 239.758125 \nL 218.696982 239.758125 \nL 218.696982 89.620982 \nL 201.759268 89.620982 \nz\n\" style=\"fill:#1f77b4;opacity:0.4;\"/>\n   </g>\n   <g id=\"patch_10\">\n    <path clip-path=\"url(#pf3decb19d9)\" d=\"M 218.696982 239.758125 \nL 235.634697 239.758125 \nL 235.634697 131.038125 \nL 218.696982 131.038125 \nz\n\" style=\"fill:#1f77b4;opacity:0.4;\"/>\n   </g>\n   <g id=\"patch_11\">\n    <path clip-path=\"url(#pf3decb19d9)\" d=\"M 235.634697 239.758125 \nL 252.572412 239.758125 \nL 252.572412 167.278125 \nL 235.634697 167.278125 \nz\n\" style=\"fill:#1f77b4;opacity:0.4;\"/>\n   </g>\n   <g id=\"patch_12\">\n    <path clip-path=\"url(#pf3decb19d9)\" d=\"M 252.572412 239.758125 \nL 269.510127 239.758125 \nL 269.510127 208.695268 \nL 252.572412 208.695268 \nz\n\" style=\"fill:#1f77b4;opacity:0.4;\"/>\n   </g>\n   <g id=\"patch_13\">\n    <path clip-path=\"url(#pf3decb19d9)\" d=\"M 269.510127 239.758125 \nL 286.447842 239.758125 \nL 286.447842 219.049554 \nL 269.510127 219.049554 \nz\n\" style=\"fill:#1f77b4;opacity:0.4;\"/>\n   </g>\n   <g id=\"patch_14\">\n    <path clip-path=\"url(#pf3decb19d9)\" d=\"M 286.447842 239.758125 \nL 303.385557 239.758125 \nL 303.385557 239.758125 \nL 286.447842 239.758125 \nz\n\" style=\"fill:#1f77b4;opacity:0.4;\"/>\n   </g>\n   <g id=\"patch_15\">\n    <path clip-path=\"url(#pf3decb19d9)\" d=\"M 303.385557 239.758125 \nL 320.323272 239.758125 \nL 320.323272 229.403839 \nL 303.385557 229.403839 \nz\n\" style=\"fill:#1f77b4;opacity:0.4;\"/>\n   </g>\n   <g id=\"matplotlib.axis_1\">\n    <g id=\"xtick_1\">\n     <g id=\"line2d_1\">\n      <defs>\n       <path d=\"M 0 0 \nL 0 3.5 \n\" id=\"m81428ba83e\" style=\"stroke:#000000;stroke-width:0.8;\"/>\n      </defs>\n      <g>\n       <use style=\"stroke:#000000;stroke-width:0.8;\" x=\"107.257093\" xlink:href=\"#m81428ba83e\" y=\"239.758125\"/>\n      </g>\n     </g>\n     <g id=\"text_1\">\n      <!-- −5 -->\n      <defs>\n       <path d=\"M 10.59375 35.5 \nL 73.1875 35.5 \nL 73.1875 27.203125 \nL 10.59375 27.203125 \nz\n\" id=\"DejaVuSans-8722\"/>\n       <path d=\"M 10.796875 72.90625 \nL 49.515625 72.90625 \nL 49.515625 64.59375 \nL 19.828125 64.59375 \nL 19.828125 46.734375 \nQ 21.96875 47.46875 24.109375 47.828125 \nQ 26.265625 48.1875 28.421875 48.1875 \nQ 40.625 48.1875 47.75 41.5 \nQ 54.890625 34.8125 54.890625 23.390625 \nQ 54.890625 11.625 47.5625 5.09375 \nQ 40.234375 -1.421875 26.90625 -1.421875 \nQ 22.3125 -1.421875 17.546875 -0.640625 \nQ 12.796875 0.140625 7.71875 1.703125 \nL 7.71875 11.625 \nQ 12.109375 9.234375 16.796875 8.0625 \nQ 21.484375 6.890625 26.703125 6.890625 \nQ 35.15625 6.890625 40.078125 11.328125 \nQ 45.015625 15.765625 45.015625 23.390625 \nQ 45.015625 31 40.078125 35.4375 \nQ 35.15625 39.890625 26.703125 39.890625 \nQ 22.75 39.890625 18.8125 39.015625 \nQ 14.890625 38.140625 10.796875 36.28125 \nz\n\" id=\"DejaVuSans-53\"/>\n      </defs>\n      <g transform=\"translate(99.885999 254.356563)scale(0.1 -0.1)\">\n       <use xlink:href=\"#DejaVuSans-8722\"/>\n       <use x=\"83.789062\" xlink:href=\"#DejaVuSans-53\"/>\n      </g>\n     </g>\n    </g>\n    <g id=\"xtick_2\">\n     <g id=\"line2d_2\">\n      <g>\n       <use style=\"stroke:#000000;stroke-width:0.8;\" x=\"171.758478\" xlink:href=\"#m81428ba83e\" y=\"239.758125\"/>\n      </g>\n     </g>\n     <g id=\"text_2\">\n      <!-- 0 -->\n      <defs>\n       <path d=\"M 31.78125 66.40625 \nQ 24.171875 66.40625 20.328125 58.90625 \nQ 16.5 51.421875 16.5 36.375 \nQ 16.5 21.390625 20.328125 13.890625 \nQ 24.171875 6.390625 31.78125 6.390625 \nQ 39.453125 6.390625 43.28125 13.890625 \nQ 47.125 21.390625 47.125 36.375 \nQ 47.125 51.421875 43.28125 58.90625 \nQ 39.453125 66.40625 31.78125 66.40625 \nz\nM 31.78125 74.21875 \nQ 44.046875 74.21875 50.515625 64.515625 \nQ 56.984375 54.828125 56.984375 36.375 \nQ 56.984375 17.96875 50.515625 8.265625 \nQ 44.046875 -1.421875 31.78125 -1.421875 \nQ 19.53125 -1.421875 13.0625 8.265625 \nQ 6.59375 17.96875 6.59375 36.375 \nQ 6.59375 54.828125 13.0625 64.515625 \nQ 19.53125 74.21875 31.78125 74.21875 \nz\n\" id=\"DejaVuSans-48\"/>\n      </defs>\n      <g transform=\"translate(168.577228 254.356563)scale(0.1 -0.1)\">\n       <use xlink:href=\"#DejaVuSans-48\"/>\n      </g>\n     </g>\n    </g>\n    <g id=\"xtick_3\">\n     <g id=\"line2d_3\">\n      <g>\n       <use style=\"stroke:#000000;stroke-width:0.8;\" x=\"236.259864\" xlink:href=\"#m81428ba83e\" y=\"239.758125\"/>\n      </g>\n     </g>\n     <g id=\"text_3\">\n      <!-- 5 -->\n      <g transform=\"translate(233.078614 254.356563)scale(0.1 -0.1)\">\n       <use xlink:href=\"#DejaVuSans-53\"/>\n      </g>\n     </g>\n    </g>\n    <g id=\"xtick_4\">\n     <g id=\"line2d_4\">\n      <g>\n       <use style=\"stroke:#000000;stroke-width:0.8;\" x=\"300.76125\" xlink:href=\"#m81428ba83e\" y=\"239.758125\"/>\n      </g>\n     </g>\n     <g id=\"text_4\">\n      <!-- 10 -->\n      <defs>\n       <path d=\"M 12.40625 8.296875 \nL 28.515625 8.296875 \nL 28.515625 63.921875 \nL 10.984375 60.40625 \nL 10.984375 69.390625 \nL 28.421875 72.90625 \nL 38.28125 72.90625 \nL 38.28125 8.296875 \nL 54.390625 8.296875 \nL 54.390625 0 \nL 12.40625 0 \nz\n\" id=\"DejaVuSans-49\"/>\n      </defs>\n      <g transform=\"translate(294.39875 254.356563)scale(0.1 -0.1)\">\n       <use xlink:href=\"#DejaVuSans-49\"/>\n       <use x=\"63.623047\" xlink:href=\"#DejaVuSans-48\"/>\n      </g>\n     </g>\n    </g>\n    <g id=\"xtick_5\">\n     <g id=\"line2d_5\">\n      <g>\n       <use style=\"stroke:#000000;stroke-width:0.8;\" x=\"365.262636\" xlink:href=\"#m81428ba83e\" y=\"239.758125\"/>\n      </g>\n     </g>\n     <g id=\"text_5\">\n      <!-- 15 -->\n      <g transform=\"translate(358.900136 254.356563)scale(0.1 -0.1)\">\n       <use xlink:href=\"#DejaVuSans-49\"/>\n       <use x=\"63.623047\" xlink:href=\"#DejaVuSans-53\"/>\n      </g>\n     </g>\n    </g>\n    <g id=\"text_6\">\n     <!-- squad_score -->\n     <defs>\n      <path d=\"M 44.28125 53.078125 \nL 44.28125 44.578125 \nQ 40.484375 46.53125 36.375 47.5 \nQ 32.28125 48.484375 27.875 48.484375 \nQ 21.1875 48.484375 17.84375 46.4375 \nQ 14.5 44.390625 14.5 40.28125 \nQ 14.5 37.15625 16.890625 35.375 \nQ 19.28125 33.59375 26.515625 31.984375 \nL 29.59375 31.296875 \nQ 39.15625 29.25 43.1875 25.515625 \nQ 47.21875 21.78125 47.21875 15.09375 \nQ 47.21875 7.46875 41.1875 3.015625 \nQ 35.15625 -1.421875 24.609375 -1.421875 \nQ 20.21875 -1.421875 15.453125 -0.5625 \nQ 10.6875 0.296875 5.421875 2 \nL 5.421875 11.28125 \nQ 10.40625 8.6875 15.234375 7.390625 \nQ 20.0625 6.109375 24.8125 6.109375 \nQ 31.15625 6.109375 34.5625 8.28125 \nQ 37.984375 10.453125 37.984375 14.40625 \nQ 37.984375 18.0625 35.515625 20.015625 \nQ 33.0625 21.96875 24.703125 23.78125 \nL 21.578125 24.515625 \nQ 13.234375 26.265625 9.515625 29.90625 \nQ 5.8125 33.546875 5.8125 39.890625 \nQ 5.8125 47.609375 11.28125 51.796875 \nQ 16.75 56 26.8125 56 \nQ 31.78125 56 36.171875 55.265625 \nQ 40.578125 54.546875 44.28125 53.078125 \nz\n\" id=\"DejaVuSans-115\"/>\n      <path d=\"M 14.796875 27.296875 \nQ 14.796875 17.390625 18.875 11.75 \nQ 22.953125 6.109375 30.078125 6.109375 \nQ 37.203125 6.109375 41.296875 11.75 \nQ 45.40625 17.390625 45.40625 27.296875 \nQ 45.40625 37.203125 41.296875 42.84375 \nQ 37.203125 48.484375 30.078125 48.484375 \nQ 22.953125 48.484375 18.875 42.84375 \nQ 14.796875 37.203125 14.796875 27.296875 \nz\nM 45.40625 8.203125 \nQ 42.578125 3.328125 38.25 0.953125 \nQ 33.9375 -1.421875 27.875 -1.421875 \nQ 17.96875 -1.421875 11.734375 6.484375 \nQ 5.515625 14.40625 5.515625 27.296875 \nQ 5.515625 40.1875 11.734375 48.09375 \nQ 17.96875 56 27.875 56 \nQ 33.9375 56 38.25 53.625 \nQ 42.578125 51.265625 45.40625 46.390625 \nL 45.40625 54.6875 \nL 54.390625 54.6875 \nL 54.390625 -20.796875 \nL 45.40625 -20.796875 \nz\n\" id=\"DejaVuSans-113\"/>\n      <path d=\"M 8.5 21.578125 \nL 8.5 54.6875 \nL 17.484375 54.6875 \nL 17.484375 21.921875 \nQ 17.484375 14.15625 20.5 10.265625 \nQ 23.53125 6.390625 29.59375 6.390625 \nQ 36.859375 6.390625 41.078125 11.03125 \nQ 45.3125 15.671875 45.3125 23.6875 \nL 45.3125 54.6875 \nL 54.296875 54.6875 \nL 54.296875 0 \nL 45.3125 0 \nL 45.3125 8.40625 \nQ 42.046875 3.421875 37.71875 1 \nQ 33.40625 -1.421875 27.6875 -1.421875 \nQ 18.265625 -1.421875 13.375 4.4375 \nQ 8.5 10.296875 8.5 21.578125 \nz\nM 31.109375 56 \nz\n\" id=\"DejaVuSans-117\"/>\n      <path d=\"M 34.28125 27.484375 \nQ 23.390625 27.484375 19.1875 25 \nQ 14.984375 22.515625 14.984375 16.5 \nQ 14.984375 11.71875 18.140625 8.90625 \nQ 21.296875 6.109375 26.703125 6.109375 \nQ 34.1875 6.109375 38.703125 11.40625 \nQ 43.21875 16.703125 43.21875 25.484375 \nL 43.21875 27.484375 \nz\nM 52.203125 31.203125 \nL 52.203125 0 \nL 43.21875 0 \nL 43.21875 8.296875 \nQ 40.140625 3.328125 35.546875 0.953125 \nQ 30.953125 -1.421875 24.3125 -1.421875 \nQ 15.921875 -1.421875 10.953125 3.296875 \nQ 6 8.015625 6 15.921875 \nQ 6 25.140625 12.171875 29.828125 \nQ 18.359375 34.515625 30.609375 34.515625 \nL 43.21875 34.515625 \nL 43.21875 35.40625 \nQ 43.21875 41.609375 39.140625 45 \nQ 35.0625 48.390625 27.6875 48.390625 \nQ 23 48.390625 18.546875 47.265625 \nQ 14.109375 46.140625 10.015625 43.890625 \nL 10.015625 52.203125 \nQ 14.9375 54.109375 19.578125 55.046875 \nQ 24.21875 56 28.609375 56 \nQ 40.484375 56 46.34375 49.84375 \nQ 52.203125 43.703125 52.203125 31.203125 \nz\n\" id=\"DejaVuSans-97\"/>\n      <path d=\"M 45.40625 46.390625 \nL 45.40625 75.984375 \nL 54.390625 75.984375 \nL 54.390625 0 \nL 45.40625 0 \nL 45.40625 8.203125 \nQ 42.578125 3.328125 38.25 0.953125 \nQ 33.9375 -1.421875 27.875 -1.421875 \nQ 17.96875 -1.421875 11.734375 6.484375 \nQ 5.515625 14.40625 5.515625 27.296875 \nQ 5.515625 40.1875 11.734375 48.09375 \nQ 17.96875 56 27.875 56 \nQ 33.9375 56 38.25 53.625 \nQ 42.578125 51.265625 45.40625 46.390625 \nz\nM 14.796875 27.296875 \nQ 14.796875 17.390625 18.875 11.75 \nQ 22.953125 6.109375 30.078125 6.109375 \nQ 37.203125 6.109375 41.296875 11.75 \nQ 45.40625 17.390625 45.40625 27.296875 \nQ 45.40625 37.203125 41.296875 42.84375 \nQ 37.203125 48.484375 30.078125 48.484375 \nQ 22.953125 48.484375 18.875 42.84375 \nQ 14.796875 37.203125 14.796875 27.296875 \nz\n\" id=\"DejaVuSans-100\"/>\n      <path d=\"M 50.984375 -16.609375 \nL 50.984375 -23.578125 \nL -0.984375 -23.578125 \nL -0.984375 -16.609375 \nz\n\" id=\"DejaVuSans-95\"/>\n      <path d=\"M 48.78125 52.59375 \nL 48.78125 44.1875 \nQ 44.96875 46.296875 41.140625 47.34375 \nQ 37.3125 48.390625 33.40625 48.390625 \nQ 24.65625 48.390625 19.8125 42.84375 \nQ 14.984375 37.3125 14.984375 27.296875 \nQ 14.984375 17.28125 19.8125 11.734375 \nQ 24.65625 6.203125 33.40625 6.203125 \nQ 37.3125 6.203125 41.140625 7.25 \nQ 44.96875 8.296875 48.78125 10.40625 \nL 48.78125 2.09375 \nQ 45.015625 0.34375 40.984375 -0.53125 \nQ 36.96875 -1.421875 32.421875 -1.421875 \nQ 20.0625 -1.421875 12.78125 6.34375 \nQ 5.515625 14.109375 5.515625 27.296875 \nQ 5.515625 40.671875 12.859375 48.328125 \nQ 20.21875 56 33.015625 56 \nQ 37.15625 56 41.109375 55.140625 \nQ 45.0625 54.296875 48.78125 52.59375 \nz\n\" id=\"DejaVuSans-99\"/>\n      <path d=\"M 30.609375 48.390625 \nQ 23.390625 48.390625 19.1875 42.75 \nQ 14.984375 37.109375 14.984375 27.296875 \nQ 14.984375 17.484375 19.15625 11.84375 \nQ 23.34375 6.203125 30.609375 6.203125 \nQ 37.796875 6.203125 41.984375 11.859375 \nQ 46.1875 17.53125 46.1875 27.296875 \nQ 46.1875 37.015625 41.984375 42.703125 \nQ 37.796875 48.390625 30.609375 48.390625 \nz\nM 30.609375 56 \nQ 42.328125 56 49.015625 48.375 \nQ 55.71875 40.765625 55.71875 27.296875 \nQ 55.71875 13.875 49.015625 6.21875 \nQ 42.328125 -1.421875 30.609375 -1.421875 \nQ 18.84375 -1.421875 12.171875 6.21875 \nQ 5.515625 13.875 5.515625 27.296875 \nQ 5.515625 40.765625 12.171875 48.375 \nQ 18.84375 56 30.609375 56 \nz\n\" id=\"DejaVuSans-111\"/>\n      <path d=\"M 41.109375 46.296875 \nQ 39.59375 47.171875 37.8125 47.578125 \nQ 36.03125 48 33.890625 48 \nQ 26.265625 48 22.1875 43.046875 \nQ 18.109375 38.09375 18.109375 28.8125 \nL 18.109375 0 \nL 9.078125 0 \nL 9.078125 54.6875 \nL 18.109375 54.6875 \nL 18.109375 46.1875 \nQ 20.953125 51.171875 25.484375 53.578125 \nQ 30.03125 56 36.53125 56 \nQ 37.453125 56 38.578125 55.875 \nQ 39.703125 55.765625 41.0625 55.515625 \nz\n\" id=\"DejaVuSans-114\"/>\n      <path d=\"M 56.203125 29.59375 \nL 56.203125 25.203125 \nL 14.890625 25.203125 \nQ 15.484375 15.921875 20.484375 11.0625 \nQ 25.484375 6.203125 34.421875 6.203125 \nQ 39.59375 6.203125 44.453125 7.46875 \nQ 49.3125 8.734375 54.109375 11.28125 \nL 54.109375 2.78125 \nQ 49.265625 0.734375 44.1875 -0.34375 \nQ 39.109375 -1.421875 33.890625 -1.421875 \nQ 20.796875 -1.421875 13.15625 6.1875 \nQ 5.515625 13.8125 5.515625 26.8125 \nQ 5.515625 40.234375 12.765625 48.109375 \nQ 20.015625 56 32.328125 56 \nQ 43.359375 56 49.78125 48.890625 \nQ 56.203125 41.796875 56.203125 29.59375 \nz\nM 47.21875 32.234375 \nQ 47.125 39.59375 43.09375 43.984375 \nQ 39.0625 48.390625 32.421875 48.390625 \nQ 24.90625 48.390625 20.390625 44.140625 \nQ 15.875 39.890625 15.1875 32.171875 \nz\n\" id=\"DejaVuSans-101\"/>\n     </defs>\n     <g transform=\"translate(179.109375 268.034688)scale(0.1 -0.1)\">\n      <use xlink:href=\"#DejaVuSans-115\"/>\n      <use x=\"52.099609\" xlink:href=\"#DejaVuSans-113\"/>\n      <use x=\"115.576172\" xlink:href=\"#DejaVuSans-117\"/>\n      <use x=\"178.955078\" xlink:href=\"#DejaVuSans-97\"/>\n      <use x=\"240.234375\" xlink:href=\"#DejaVuSans-100\"/>\n      <use x=\"303.710938\" xlink:href=\"#DejaVuSans-95\"/>\n      <use x=\"353.710938\" xlink:href=\"#DejaVuSans-115\"/>\n      <use x=\"405.810547\" xlink:href=\"#DejaVuSans-99\"/>\n      <use x=\"460.791016\" xlink:href=\"#DejaVuSans-111\"/>\n      <use x=\"521.972656\" xlink:href=\"#DejaVuSans-114\"/>\n      <use x=\"560.835938\" xlink:href=\"#DejaVuSans-101\"/>\n     </g>\n    </g>\n   </g>\n   <g id=\"matplotlib.axis_2\">\n    <g id=\"ytick_1\">\n     <g id=\"line2d_6\">\n      <defs>\n       <path d=\"M 0 0 \nL -3.5 0 \n\" id=\"me5c090f0f7\" style=\"stroke:#000000;stroke-width:0.8;\"/>\n      </defs>\n      <g>\n       <use style=\"stroke:#000000;stroke-width:0.8;\" x=\"42.828125\" xlink:href=\"#me5c090f0f7\" y=\"239.758125\"/>\n      </g>\n     </g>\n     <g id=\"text_7\">\n      <!-- 0.000 -->\n      <defs>\n       <path d=\"M 10.6875 12.40625 \nL 21 12.40625 \nL 21 0 \nL 10.6875 0 \nz\n\" id=\"DejaVuSans-46\"/>\n      </defs>\n      <g transform=\"translate(7.2 243.557344)scale(0.1 -0.1)\">\n       <use xlink:href=\"#DejaVuSans-48\"/>\n       <use x=\"63.623047\" xlink:href=\"#DejaVuSans-46\"/>\n       <use x=\"95.410156\" xlink:href=\"#DejaVuSans-48\"/>\n       <use x=\"159.033203\" xlink:href=\"#DejaVuSans-48\"/>\n       <use x=\"222.65625\" xlink:href=\"#DejaVuSans-48\"/>\n      </g>\n     </g>\n    </g>\n    <g id=\"ytick_2\">\n     <g id=\"line2d_7\">\n      <g>\n       <use style=\"stroke:#000000;stroke-width:0.8;\" x=\"42.828125\" xlink:href=\"#me5c090f0f7\" y=\"211.378778\"/>\n      </g>\n     </g>\n     <g id=\"text_8\">\n      <!-- 0.025 -->\n      <defs>\n       <path d=\"M 19.1875 8.296875 \nL 53.609375 8.296875 \nL 53.609375 0 \nL 7.328125 0 \nL 7.328125 8.296875 \nQ 12.9375 14.109375 22.625 23.890625 \nQ 32.328125 33.6875 34.8125 36.53125 \nQ 39.546875 41.84375 41.421875 45.53125 \nQ 43.3125 49.21875 43.3125 52.78125 \nQ 43.3125 58.59375 39.234375 62.25 \nQ 35.15625 65.921875 28.609375 65.921875 \nQ 23.96875 65.921875 18.8125 64.3125 \nQ 13.671875 62.703125 7.8125 59.421875 \nL 7.8125 69.390625 \nQ 13.765625 71.78125 18.9375 73 \nQ 24.125 74.21875 28.421875 74.21875 \nQ 39.75 74.21875 46.484375 68.546875 \nQ 53.21875 62.890625 53.21875 53.421875 \nQ 53.21875 48.921875 51.53125 44.890625 \nQ 49.859375 40.875 45.40625 35.40625 \nQ 44.1875 33.984375 37.640625 27.21875 \nQ 31.109375 20.453125 19.1875 8.296875 \nz\n\" id=\"DejaVuSans-50\"/>\n      </defs>\n      <g transform=\"translate(7.2 215.177996)scale(0.1 -0.1)\">\n       <use xlink:href=\"#DejaVuSans-48\"/>\n       <use x=\"63.623047\" xlink:href=\"#DejaVuSans-46\"/>\n       <use x=\"95.410156\" xlink:href=\"#DejaVuSans-48\"/>\n       <use x=\"159.033203\" xlink:href=\"#DejaVuSans-50\"/>\n       <use x=\"222.65625\" xlink:href=\"#DejaVuSans-53\"/>\n      </g>\n     </g>\n    </g>\n    <g id=\"ytick_3\">\n     <g id=\"line2d_8\">\n      <g>\n       <use style=\"stroke:#000000;stroke-width:0.8;\" x=\"42.828125\" xlink:href=\"#me5c090f0f7\" y=\"182.99943\"/>\n      </g>\n     </g>\n     <g id=\"text_9\">\n      <!-- 0.050 -->\n      <g transform=\"translate(7.2 186.798649)scale(0.1 -0.1)\">\n       <use xlink:href=\"#DejaVuSans-48\"/>\n       <use x=\"63.623047\" xlink:href=\"#DejaVuSans-46\"/>\n       <use x=\"95.410156\" xlink:href=\"#DejaVuSans-48\"/>\n       <use x=\"159.033203\" xlink:href=\"#DejaVuSans-53\"/>\n       <use x=\"222.65625\" xlink:href=\"#DejaVuSans-48\"/>\n      </g>\n     </g>\n    </g>\n    <g id=\"ytick_4\">\n     <g id=\"line2d_9\">\n      <g>\n       <use style=\"stroke:#000000;stroke-width:0.8;\" x=\"42.828125\" xlink:href=\"#me5c090f0f7\" y=\"154.620083\"/>\n      </g>\n     </g>\n     <g id=\"text_10\">\n      <!-- 0.075 -->\n      <defs>\n       <path d=\"M 8.203125 72.90625 \nL 55.078125 72.90625 \nL 55.078125 68.703125 \nL 28.609375 0 \nL 18.3125 0 \nL 43.21875 64.59375 \nL 8.203125 64.59375 \nz\n\" id=\"DejaVuSans-55\"/>\n      </defs>\n      <g transform=\"translate(7.2 158.419301)scale(0.1 -0.1)\">\n       <use xlink:href=\"#DejaVuSans-48\"/>\n       <use x=\"63.623047\" xlink:href=\"#DejaVuSans-46\"/>\n       <use x=\"95.410156\" xlink:href=\"#DejaVuSans-48\"/>\n       <use x=\"159.033203\" xlink:href=\"#DejaVuSans-55\"/>\n       <use x=\"222.65625\" xlink:href=\"#DejaVuSans-53\"/>\n      </g>\n     </g>\n    </g>\n    <g id=\"ytick_5\">\n     <g id=\"line2d_10\">\n      <g>\n       <use style=\"stroke:#000000;stroke-width:0.8;\" x=\"42.828125\" xlink:href=\"#me5c090f0f7\" y=\"126.240735\"/>\n      </g>\n     </g>\n     <g id=\"text_11\">\n      <!-- 0.100 -->\n      <g transform=\"translate(7.2 130.039954)scale(0.1 -0.1)\">\n       <use xlink:href=\"#DejaVuSans-48\"/>\n       <use x=\"63.623047\" xlink:href=\"#DejaVuSans-46\"/>\n       <use x=\"95.410156\" xlink:href=\"#DejaVuSans-49\"/>\n       <use x=\"159.033203\" xlink:href=\"#DejaVuSans-48\"/>\n       <use x=\"222.65625\" xlink:href=\"#DejaVuSans-48\"/>\n      </g>\n     </g>\n    </g>\n    <g id=\"ytick_6\">\n     <g id=\"line2d_11\">\n      <g>\n       <use style=\"stroke:#000000;stroke-width:0.8;\" x=\"42.828125\" xlink:href=\"#me5c090f0f7\" y=\"97.861388\"/>\n      </g>\n     </g>\n     <g id=\"text_12\">\n      <!-- 0.125 -->\n      <g transform=\"translate(7.2 101.660606)scale(0.1 -0.1)\">\n       <use xlink:href=\"#DejaVuSans-48\"/>\n       <use x=\"63.623047\" xlink:href=\"#DejaVuSans-46\"/>\n       <use x=\"95.410156\" xlink:href=\"#DejaVuSans-49\"/>\n       <use x=\"159.033203\" xlink:href=\"#DejaVuSans-50\"/>\n       <use x=\"222.65625\" xlink:href=\"#DejaVuSans-53\"/>\n      </g>\n     </g>\n    </g>\n    <g id=\"ytick_7\">\n     <g id=\"line2d_12\">\n      <g>\n       <use style=\"stroke:#000000;stroke-width:0.8;\" x=\"42.828125\" xlink:href=\"#me5c090f0f7\" y=\"69.48204\"/>\n      </g>\n     </g>\n     <g id=\"text_13\">\n      <!-- 0.150 -->\n      <g transform=\"translate(7.2 73.281259)scale(0.1 -0.1)\">\n       <use xlink:href=\"#DejaVuSans-48\"/>\n       <use x=\"63.623047\" xlink:href=\"#DejaVuSans-46\"/>\n       <use x=\"95.410156\" xlink:href=\"#DejaVuSans-49\"/>\n       <use x=\"159.033203\" xlink:href=\"#DejaVuSans-53\"/>\n       <use x=\"222.65625\" xlink:href=\"#DejaVuSans-48\"/>\n      </g>\n     </g>\n    </g>\n    <g id=\"ytick_8\">\n     <g id=\"line2d_13\">\n      <g>\n       <use style=\"stroke:#000000;stroke-width:0.8;\" x=\"42.828125\" xlink:href=\"#me5c090f0f7\" y=\"41.102693\"/>\n      </g>\n     </g>\n     <g id=\"text_14\">\n      <!-- 0.175 -->\n      <g transform=\"translate(7.2 44.901911)scale(0.1 -0.1)\">\n       <use xlink:href=\"#DejaVuSans-48\"/>\n       <use x=\"63.623047\" xlink:href=\"#DejaVuSans-46\"/>\n       <use x=\"95.410156\" xlink:href=\"#DejaVuSans-49\"/>\n       <use x=\"159.033203\" xlink:href=\"#DejaVuSans-55\"/>\n       <use x=\"222.65625\" xlink:href=\"#DejaVuSans-53\"/>\n      </g>\n     </g>\n    </g>\n   </g>\n   <g id=\"line2d_14\">\n    <path clip-path=\"url(#pf3decb19d9)\" d=\"M 58.046307 239.709955 \nL 67.632563 239.578379 \nL 74.822255 239.251447 \nL 82.011947 238.628713 \nL 89.20164 237.734783 \nL 96.391332 236.662668 \nL 101.18446 235.77558 \nL 103.581024 235.212028 \nL 105.977588 234.517413 \nL 108.374152 233.645267 \nL 110.770716 232.546259 \nL 113.16728 231.171896 \nL 115.563844 229.478108 \nL 117.960408 227.42819 \nL 120.356973 224.994661 \nL 122.753537 222.159814 \nL 125.150101 218.914981 \nL 127.546665 215.258724 \nL 129.943229 211.194357 \nL 132.339793 206.727258 \nL 134.736357 201.862464 \nL 137.132921 196.603012 \nL 139.529485 190.949417 \nL 141.926049 184.900579 \nL 144.322613 178.45634 \nL 146.719177 171.621705 \nL 151.512305 156.862654 \nL 156.305434 141.005593 \nL 161.098562 124.91516 \nL 163.495126 117.204517 \nL 165.89169 109.997963 \nL 168.288254 103.520255 \nL 170.684818 97.985406 \nL 173.081382 93.575284 \nL 175.477946 90.418469 \nL 177.87451 88.572489 \nL 180.271074 88.01249 \nL 182.667638 88.628797 \nL 185.064202 90.234688 \nL 187.460766 92.584226 \nL 189.85733 95.398328 \nL 194.650459 101.324722 \nL 197.047023 103.990405 \nL 199.443587 106.274421 \nL 201.840151 108.14335 \nL 204.236715 109.645485 \nL 211.426407 113.314995 \nL 213.822971 114.839987 \nL 216.219535 116.783392 \nL 218.616099 119.251759 \nL 221.012663 122.301602 \nL 223.409227 125.939184 \nL 225.805791 130.126221 \nL 228.202355 134.789501 \nL 230.59892 139.832258 \nL 235.392048 150.617709 \nL 242.58174 166.988166 \nL 247.374868 177.107594 \nL 249.771432 181.789478 \nL 252.167996 186.1959 \nL 254.56456 190.327195 \nL 256.961124 194.195406 \nL 259.357688 197.821411 \nL 264.150816 204.454763 \nL 268.943945 210.443634 \nL 273.737073 215.93567 \nL 278.530201 220.942701 \nL 280.926765 223.228833 \nL 283.323329 225.338659 \nL 285.719893 227.246473 \nL 288.116457 228.92949 \nL 290.513021 230.37155 \nL 292.909585 231.566093 \nL 295.306149 232.517972 \nL 297.702713 233.243873 \nL 300.099277 233.771291 \nL 302.495842 234.136245 \nL 307.28897 234.545787 \nL 316.875226 235.155885 \nL 321.668354 235.7232 \nL 328.858046 236.898753 \nL 336.047738 238.105248 \nL 340.840867 238.742787 \nL 345.633995 239.194609 \nL 352.823687 239.565246 \nL 362.409943 239.709361 \nL 362.409943 239.709361 \n\" style=\"fill:none;stroke:#1f77b4;stroke-linecap:square;stroke-width:1.5;\"/>\n   </g>\n   <g id=\"patch_16\">\n    <path d=\"M 42.828125 239.758125 \nL 42.828125 22.318125 \n\" style=\"fill:none;stroke:#000000;stroke-linecap:square;stroke-linejoin:miter;stroke-width:0.8;\"/>\n   </g>\n   <g id=\"patch_17\">\n    <path d=\"M 377.628125 239.758125 \nL 377.628125 22.318125 \n\" style=\"fill:none;stroke:#000000;stroke-linecap:square;stroke-linejoin:miter;stroke-width:0.8;\"/>\n   </g>\n   <g id=\"patch_18\">\n    <path d=\"M 42.828125 239.758125 \nL 377.628125 239.758125 \n\" style=\"fill:none;stroke:#000000;stroke-linecap:square;stroke-linejoin:miter;stroke-width:0.8;\"/>\n   </g>\n   <g id=\"patch_19\">\n    <path d=\"M 42.828125 22.318125 \nL 377.628125 22.318125 \n\" style=\"fill:none;stroke:#000000;stroke-linecap:square;stroke-linejoin:miter;stroke-width:0.8;\"/>\n   </g>\n   <g id=\"text_15\">\n    <!-- Distribution of Squad Scores on API Transcriptions -->\n    <defs>\n     <path d=\"M 19.671875 64.796875 \nL 19.671875 8.109375 \nL 31.59375 8.109375 \nQ 46.6875 8.109375 53.6875 14.9375 \nQ 60.6875 21.78125 60.6875 36.53125 \nQ 60.6875 51.171875 53.6875 57.984375 \nQ 46.6875 64.796875 31.59375 64.796875 \nz\nM 9.8125 72.90625 \nL 30.078125 72.90625 \nQ 51.265625 72.90625 61.171875 64.09375 \nQ 71.09375 55.28125 71.09375 36.53125 \nQ 71.09375 17.671875 61.125 8.828125 \nQ 51.171875 0 30.078125 0 \nL 9.8125 0 \nz\n\" id=\"DejaVuSans-68\"/>\n     <path d=\"M 9.421875 54.6875 \nL 18.40625 54.6875 \nL 18.40625 0 \nL 9.421875 0 \nz\nM 9.421875 75.984375 \nL 18.40625 75.984375 \nL 18.40625 64.59375 \nL 9.421875 64.59375 \nz\n\" id=\"DejaVuSans-105\"/>\n     <path d=\"M 18.3125 70.21875 \nL 18.3125 54.6875 \nL 36.8125 54.6875 \nL 36.8125 47.703125 \nL 18.3125 47.703125 \nL 18.3125 18.015625 \nQ 18.3125 11.328125 20.140625 9.421875 \nQ 21.96875 7.515625 27.59375 7.515625 \nL 36.8125 7.515625 \nL 36.8125 0 \nL 27.59375 0 \nQ 17.1875 0 13.234375 3.875 \nQ 9.28125 7.765625 9.28125 18.015625 \nL 9.28125 47.703125 \nL 2.6875 47.703125 \nL 2.6875 54.6875 \nL 9.28125 54.6875 \nL 9.28125 70.21875 \nz\n\" id=\"DejaVuSans-116\"/>\n     <path d=\"M 48.6875 27.296875 \nQ 48.6875 37.203125 44.609375 42.84375 \nQ 40.53125 48.484375 33.40625 48.484375 \nQ 26.265625 48.484375 22.1875 42.84375 \nQ 18.109375 37.203125 18.109375 27.296875 \nQ 18.109375 17.390625 22.1875 11.75 \nQ 26.265625 6.109375 33.40625 6.109375 \nQ 40.53125 6.109375 44.609375 11.75 \nQ 48.6875 17.390625 48.6875 27.296875 \nz\nM 18.109375 46.390625 \nQ 20.953125 51.265625 25.265625 53.625 \nQ 29.59375 56 35.59375 56 \nQ 45.5625 56 51.78125 48.09375 \nQ 58.015625 40.1875 58.015625 27.296875 \nQ 58.015625 14.40625 51.78125 6.484375 \nQ 45.5625 -1.421875 35.59375 -1.421875 \nQ 29.59375 -1.421875 25.265625 0.953125 \nQ 20.953125 3.328125 18.109375 8.203125 \nL 18.109375 0 \nL 9.078125 0 \nL 9.078125 75.984375 \nL 18.109375 75.984375 \nz\n\" id=\"DejaVuSans-98\"/>\n     <path d=\"M 54.890625 33.015625 \nL 54.890625 0 \nL 45.90625 0 \nL 45.90625 32.71875 \nQ 45.90625 40.484375 42.875 44.328125 \nQ 39.84375 48.1875 33.796875 48.1875 \nQ 26.515625 48.1875 22.3125 43.546875 \nQ 18.109375 38.921875 18.109375 30.90625 \nL 18.109375 0 \nL 9.078125 0 \nL 9.078125 54.6875 \nL 18.109375 54.6875 \nL 18.109375 46.1875 \nQ 21.34375 51.125 25.703125 53.5625 \nQ 30.078125 56 35.796875 56 \nQ 45.21875 56 50.046875 50.171875 \nQ 54.890625 44.34375 54.890625 33.015625 \nz\n\" id=\"DejaVuSans-110\"/>\n     <path id=\"DejaVuSans-32\"/>\n     <path d=\"M 37.109375 75.984375 \nL 37.109375 68.5 \nL 28.515625 68.5 \nQ 23.6875 68.5 21.796875 66.546875 \nQ 19.921875 64.59375 19.921875 59.515625 \nL 19.921875 54.6875 \nL 34.71875 54.6875 \nL 34.71875 47.703125 \nL 19.921875 47.703125 \nL 19.921875 0 \nL 10.890625 0 \nL 10.890625 47.703125 \nL 2.296875 47.703125 \nL 2.296875 54.6875 \nL 10.890625 54.6875 \nL 10.890625 58.5 \nQ 10.890625 67.625 15.140625 71.796875 \nQ 19.390625 75.984375 28.609375 75.984375 \nz\n\" id=\"DejaVuSans-102\"/>\n     <path d=\"M 53.515625 70.515625 \nL 53.515625 60.890625 \nQ 47.90625 63.578125 42.921875 64.890625 \nQ 37.9375 66.21875 33.296875 66.21875 \nQ 25.25 66.21875 20.875 63.09375 \nQ 16.5 59.96875 16.5 54.203125 \nQ 16.5 49.359375 19.40625 46.890625 \nQ 22.3125 44.4375 30.421875 42.921875 \nL 36.375 41.703125 \nQ 47.40625 39.59375 52.65625 34.296875 \nQ 57.90625 29 57.90625 20.125 \nQ 57.90625 9.515625 50.796875 4.046875 \nQ 43.703125 -1.421875 29.984375 -1.421875 \nQ 24.8125 -1.421875 18.96875 -0.25 \nQ 13.140625 0.921875 6.890625 3.21875 \nL 6.890625 13.375 \nQ 12.890625 10.015625 18.65625 8.296875 \nQ 24.421875 6.59375 29.984375 6.59375 \nQ 38.421875 6.59375 43.015625 9.90625 \nQ 47.609375 13.234375 47.609375 19.390625 \nQ 47.609375 24.75 44.3125 27.78125 \nQ 41.015625 30.8125 33.5 32.328125 \nL 27.484375 33.5 \nQ 16.453125 35.6875 11.515625 40.375 \nQ 6.59375 45.0625 6.59375 53.421875 \nQ 6.59375 63.09375 13.40625 68.65625 \nQ 20.21875 74.21875 32.171875 74.21875 \nQ 37.3125 74.21875 42.625 73.28125 \nQ 47.953125 72.359375 53.515625 70.515625 \nz\n\" id=\"DejaVuSans-83\"/>\n     <path d=\"M 34.1875 63.1875 \nL 20.796875 26.90625 \nL 47.609375 26.90625 \nz\nM 28.609375 72.90625 \nL 39.796875 72.90625 \nL 67.578125 0 \nL 57.328125 0 \nL 50.6875 18.703125 \nL 17.828125 18.703125 \nL 11.1875 0 \nL 0.78125 0 \nz\n\" id=\"DejaVuSans-65\"/>\n     <path d=\"M 19.671875 64.796875 \nL 19.671875 37.40625 \nL 32.078125 37.40625 \nQ 38.96875 37.40625 42.71875 40.96875 \nQ 46.484375 44.53125 46.484375 51.125 \nQ 46.484375 57.671875 42.71875 61.234375 \nQ 38.96875 64.796875 32.078125 64.796875 \nz\nM 9.8125 72.90625 \nL 32.078125 72.90625 \nQ 44.34375 72.90625 50.609375 67.359375 \nQ 56.890625 61.8125 56.890625 51.125 \nQ 56.890625 40.328125 50.609375 34.8125 \nQ 44.34375 29.296875 32.078125 29.296875 \nL 19.671875 29.296875 \nL 19.671875 0 \nL 9.8125 0 \nz\n\" id=\"DejaVuSans-80\"/>\n     <path d=\"M 9.8125 72.90625 \nL 19.671875 72.90625 \nL 19.671875 0 \nL 9.8125 0 \nz\n\" id=\"DejaVuSans-73\"/>\n     <path d=\"M -0.296875 72.90625 \nL 61.375 72.90625 \nL 61.375 64.59375 \nL 35.5 64.59375 \nL 35.5 0 \nL 25.59375 0 \nL 25.59375 64.59375 \nL -0.296875 64.59375 \nz\n\" id=\"DejaVuSans-84\"/>\n     <path d=\"M 18.109375 8.203125 \nL 18.109375 -20.796875 \nL 9.078125 -20.796875 \nL 9.078125 54.6875 \nL 18.109375 54.6875 \nL 18.109375 46.390625 \nQ 20.953125 51.265625 25.265625 53.625 \nQ 29.59375 56 35.59375 56 \nQ 45.5625 56 51.78125 48.09375 \nQ 58.015625 40.1875 58.015625 27.296875 \nQ 58.015625 14.40625 51.78125 6.484375 \nQ 45.5625 -1.421875 35.59375 -1.421875 \nQ 29.59375 -1.421875 25.265625 0.953125 \nQ 20.953125 3.328125 18.109375 8.203125 \nz\nM 48.6875 27.296875 \nQ 48.6875 37.203125 44.609375 42.84375 \nQ 40.53125 48.484375 33.40625 48.484375 \nQ 26.265625 48.484375 22.1875 42.84375 \nQ 18.109375 37.203125 18.109375 27.296875 \nQ 18.109375 17.390625 22.1875 11.75 \nQ 26.265625 6.109375 33.40625 6.109375 \nQ 40.53125 6.109375 44.609375 11.75 \nQ 48.6875 17.390625 48.6875 27.296875 \nz\n\" id=\"DejaVuSans-112\"/>\n    </defs>\n    <g transform=\"translate(60.48875 16.318125)scale(0.12 -0.12)\">\n     <use xlink:href=\"#DejaVuSans-68\"/>\n     <use x=\"77.001953\" xlink:href=\"#DejaVuSans-105\"/>\n     <use x=\"104.785156\" xlink:href=\"#DejaVuSans-115\"/>\n     <use x=\"156.884766\" xlink:href=\"#DejaVuSans-116\"/>\n     <use x=\"196.09375\" xlink:href=\"#DejaVuSans-114\"/>\n     <use x=\"237.207031\" xlink:href=\"#DejaVuSans-105\"/>\n     <use x=\"264.990234\" xlink:href=\"#DejaVuSans-98\"/>\n     <use x=\"328.466797\" xlink:href=\"#DejaVuSans-117\"/>\n     <use x=\"391.845703\" xlink:href=\"#DejaVuSans-116\"/>\n     <use x=\"431.054688\" xlink:href=\"#DejaVuSans-105\"/>\n     <use x=\"458.837891\" xlink:href=\"#DejaVuSans-111\"/>\n     <use x=\"520.019531\" xlink:href=\"#DejaVuSans-110\"/>\n     <use x=\"583.398438\" xlink:href=\"#DejaVuSans-32\"/>\n     <use x=\"615.185547\" xlink:href=\"#DejaVuSans-111\"/>\n     <use x=\"676.367188\" xlink:href=\"#DejaVuSans-102\"/>\n     <use x=\"711.572266\" xlink:href=\"#DejaVuSans-32\"/>\n     <use x=\"743.359375\" xlink:href=\"#DejaVuSans-83\"/>\n     <use x=\"806.835938\" xlink:href=\"#DejaVuSans-113\"/>\n     <use x=\"870.3125\" xlink:href=\"#DejaVuSans-117\"/>\n     <use x=\"933.691406\" xlink:href=\"#DejaVuSans-97\"/>\n     <use x=\"994.970703\" xlink:href=\"#DejaVuSans-100\"/>\n     <use x=\"1058.447266\" xlink:href=\"#DejaVuSans-32\"/>\n     <use x=\"1090.234375\" xlink:href=\"#DejaVuSans-83\"/>\n     <use x=\"1153.710938\" xlink:href=\"#DejaVuSans-99\"/>\n     <use x=\"1208.691406\" xlink:href=\"#DejaVuSans-111\"/>\n     <use x=\"1269.873047\" xlink:href=\"#DejaVuSans-114\"/>\n     <use x=\"1308.736328\" xlink:href=\"#DejaVuSans-101\"/>\n     <use x=\"1370.259766\" xlink:href=\"#DejaVuSans-115\"/>\n     <use x=\"1422.359375\" xlink:href=\"#DejaVuSans-32\"/>\n     <use x=\"1454.146484\" xlink:href=\"#DejaVuSans-111\"/>\n     <use x=\"1515.328125\" xlink:href=\"#DejaVuSans-110\"/>\n     <use x=\"1578.707031\" xlink:href=\"#DejaVuSans-32\"/>\n     <use x=\"1610.494141\" xlink:href=\"#DejaVuSans-65\"/>\n     <use x=\"1678.902344\" xlink:href=\"#DejaVuSans-80\"/>\n     <use x=\"1739.205078\" xlink:href=\"#DejaVuSans-73\"/>\n     <use x=\"1768.697266\" xlink:href=\"#DejaVuSans-32\"/>\n     <use x=\"1800.484375\" xlink:href=\"#DejaVuSans-84\"/>\n     <use x=\"1846.818359\" xlink:href=\"#DejaVuSans-114\"/>\n     <use x=\"1887.931641\" xlink:href=\"#DejaVuSans-97\"/>\n     <use x=\"1949.210938\" xlink:href=\"#DejaVuSans-110\"/>\n     <use x=\"2012.589844\" xlink:href=\"#DejaVuSans-115\"/>\n     <use x=\"2064.689453\" xlink:href=\"#DejaVuSans-99\"/>\n     <use x=\"2119.669922\" xlink:href=\"#DejaVuSans-114\"/>\n     <use x=\"2160.783203\" xlink:href=\"#DejaVuSans-105\"/>\n     <use x=\"2188.566406\" xlink:href=\"#DejaVuSans-112\"/>\n     <use x=\"2252.042969\" xlink:href=\"#DejaVuSans-116\"/>\n     <use x=\"2291.251953\" xlink:href=\"#DejaVuSans-105\"/>\n     <use x=\"2319.035156\" xlink:href=\"#DejaVuSans-111\"/>\n     <use x=\"2380.216797\" xlink:href=\"#DejaVuSans-110\"/>\n     <use x=\"2443.595703\" xlink:href=\"#DejaVuSans-115\"/>\n    </g>\n   </g>\n  </g>\n </g>\n <defs>\n  <clipPath id=\"pf3decb19d9\">\n   <rect height=\"217.44\" width=\"334.8\" x=\"42.828125\" y=\"22.318125\"/>\n  </clipPath>\n </defs>\n</svg>\n",
      "image/png": "[encoded data removed]"
     },
     "metadata": {
      "needs_background": "light"
     }
    }
   ],
   "source": [
    "ax = sns.distplot(api_squad_score[\"squad_score\"])\n",
    "plt.title(\"Distribution of Squad Scores on API Transcriptions\")\n",
    "plt.show()"
   ]
  },
  {
   "cell_type": "code",
   "execution_count": 25,
   "metadata": {},
   "outputs": [],
   "source": [
    "# Filter Transcriptions down to 25 hand-ranked stories \n",
    "rankings = {\"3130\": 1,  # key == Story ID, value == rank\n",
    "             \"3112\": 2,\n",
    "             \"5109\": 3,\n",
    "             \"3118\": 4,\n",
    "             \"3122\": 5,\n",
    "             \"3108\": 6,\n",
    "             \"5108\": 7,\n",
    "             \"3121\": 8,\n",
    "             \"3101\": 9,\n",
    "             \"3128\": 10,\n",
    "             \"3106\": 11,\n",
    "             \"3126\": 12,\n",
    "             \"3129\": 13,\n",
    "             \"3105\": 14,\n",
    "             \"5104\": 15,\n",
    "             \"5101\": 16,\n",
    "             \"5103\": 17,\n",
    "             \"3125\": 18,\n",
    "             \"3111\": 19,\n",
    "             \"3119\": 20,\n",
    "             \"3110\": 21,\n",
    "             \"3117\": 22,\n",
    "             \"3127\": 23,\n",
    "             \"3131\": 24,\n",
    "             \"3120\": 25} \n",
    "\n"
   ]
  },
  {
   "cell_type": "code",
   "execution_count": 201,
   "metadata": {},
   "outputs": [],
   "source": [
    "# Subset dataframe for human transcriptions\n",
    "ranked_stories_h = human_metrics[human_metrics[\"story_id\"].isin(rankings.keys())].reset_index(drop=True)\n",
    "# Add rankings\n",
    "ranked_stories_h[\"ranking\"] = ranked_stories_h[\"story_id\"].apply(lambda x: rankings[x])\n",
    "\n",
    "# Subset dataframe for API transcriptions\n",
    "ranked_stories_api = api_metrics[api_metrics[\"story_id\"].isin(rankings.keys())].reset_index(drop=True)\n",
    "# Add rankings\n",
    "ranked_stories_api[\"ranking\"] = ranked_stories_api[\"story_id\"].apply(lambda x: rankings[x])"
   ]
  },
  {
   "cell_type": "code",
   "execution_count": 202,
   "metadata": {},
   "outputs": [],
   "source": [
    "# Add Squad Score based on squad_score function\n",
    "ranked_stories_h[\"squad_score\"] = ranked_stories_h.iloc[:,:-1].apply(lambda x: squad_score(x, \"human\"), axis=1)\n",
    "# Add the rank based on the squad score\n",
    "ranked_stories_h[\"squad_score_rank\"] = ranked_stories_h[\"squad_score\"].rank(ascending=False)\n",
    "\n",
    "# Repeat for API transcriptions\n",
    "ranked_stories_api[\"squad_score\"] = ranked_stories_api.iloc[:,:-1].apply(lambda x: squad_score(x, \"api\"), axis=1)\n",
    "ranked_stories_api[\"squad_score_rank\"] = ranked_stories_api[\"squad_score\"].rank(ascending=False)\n"
   ]
  },
  {
   "cell_type": "code",
   "execution_count": 204,
   "metadata": {},
   "outputs": [
    {
     "data": {
      "text/html": [
       "<div>\n",
       "<style scoped>\n",
       "    .dataframe tbody tr th:only-of-type {\n",
       "        vertical-align: middle;\n",
       "    }\n",
       "\n",
       "    .dataframe tbody tr th {\n",
       "        vertical-align: top;\n",
       "    }\n",
       "\n",
       "    .dataframe thead th {\n",
       "        text-align: right;\n",
       "    }\n",
       "</style>\n",
       "<table border=\"1\" class=\"dataframe\">\n",
       "  <thead>\n",
       "    <tr style=\"text-align: right;\">\n",
       "      <th></th>\n",
       "      <th>story_id</th>\n",
       "      <th>ranking</th>\n",
       "      <th>squad_score_rank</th>\n",
       "      <th>squad_score</th>\n",
       "    </tr>\n",
       "  </thead>\n",
       "  <tbody>\n",
       "    <tr>\n",
       "      <th>0</th>\n",
       "      <td>3117</td>\n",
       "      <td>22</td>\n",
       "      <td>19.0</td>\n",
       "      <td>-1.056141</td>\n",
       "    </tr>\n",
       "    <tr>\n",
       "      <th>1</th>\n",
       "      <td>3105</td>\n",
       "      <td>14</td>\n",
       "      <td>10.0</td>\n",
       "      <td>1.040706</td>\n",
       "    </tr>\n",
       "    <tr>\n",
       "      <th>2</th>\n",
       "      <td>3129</td>\n",
       "      <td>13</td>\n",
       "      <td>5.0</td>\n",
       "      <td>2.883301</td>\n",
       "    </tr>\n",
       "    <tr>\n",
       "      <th>3</th>\n",
       "      <td>3111</td>\n",
       "      <td>19</td>\n",
       "      <td>18.0</td>\n",
       "      <td>-0.476632</td>\n",
       "    </tr>\n",
       "    <tr>\n",
       "      <th>4</th>\n",
       "      <td>3118</td>\n",
       "      <td>4</td>\n",
       "      <td>21.0</td>\n",
       "      <td>-1.313509</td>\n",
       "    </tr>\n",
       "    <tr>\n",
       "      <th>5</th>\n",
       "      <td>3127</td>\n",
       "      <td>23</td>\n",
       "      <td>23.0</td>\n",
       "      <td>-2.515487</td>\n",
       "    </tr>\n",
       "    <tr>\n",
       "      <th>6</th>\n",
       "      <td>3120</td>\n",
       "      <td>25</td>\n",
       "      <td>17.0</td>\n",
       "      <td>-0.048599</td>\n",
       "    </tr>\n",
       "    <tr>\n",
       "      <th>7</th>\n",
       "      <td>3121</td>\n",
       "      <td>8</td>\n",
       "      <td>25.0</td>\n",
       "      <td>-4.313544</td>\n",
       "    </tr>\n",
       "    <tr>\n",
       "      <th>8</th>\n",
       "      <td>3119</td>\n",
       "      <td>20</td>\n",
       "      <td>20.0</td>\n",
       "      <td>-1.220811</td>\n",
       "    </tr>\n",
       "    <tr>\n",
       "      <th>9</th>\n",
       "      <td>3126</td>\n",
       "      <td>12</td>\n",
       "      <td>14.0</td>\n",
       "      <td>0.115512</td>\n",
       "    </tr>\n",
       "    <tr>\n",
       "      <th>10</th>\n",
       "      <td>3110</td>\n",
       "      <td>21</td>\n",
       "      <td>24.0</td>\n",
       "      <td>-3.728820</td>\n",
       "    </tr>\n",
       "    <tr>\n",
       "      <th>11</th>\n",
       "      <td>3128</td>\n",
       "      <td>10</td>\n",
       "      <td>11.0</td>\n",
       "      <td>0.813886</td>\n",
       "    </tr>\n",
       "    <tr>\n",
       "      <th>12</th>\n",
       "      <td>3131</td>\n",
       "      <td>24</td>\n",
       "      <td>22.0</td>\n",
       "      <td>-2.204231</td>\n",
       "    </tr>\n",
       "    <tr>\n",
       "      <th>13</th>\n",
       "      <td>3106</td>\n",
       "      <td>11</td>\n",
       "      <td>13.0</td>\n",
       "      <td>0.266124</td>\n",
       "    </tr>\n",
       "    <tr>\n",
       "      <th>14</th>\n",
       "      <td>3101</td>\n",
       "      <td>9</td>\n",
       "      <td>12.0</td>\n",
       "      <td>0.678006</td>\n",
       "    </tr>\n",
       "    <tr>\n",
       "      <th>15</th>\n",
       "      <td>3108</td>\n",
       "      <td>6</td>\n",
       "      <td>16.0</td>\n",
       "      <td>0.034310</td>\n",
       "    </tr>\n",
       "    <tr>\n",
       "      <th>16</th>\n",
       "      <td>3130</td>\n",
       "      <td>1</td>\n",
       "      <td>1.0</td>\n",
       "      <td>4.158134</td>\n",
       "    </tr>\n",
       "    <tr>\n",
       "      <th>17</th>\n",
       "      <td>3112</td>\n",
       "      <td>2</td>\n",
       "      <td>8.0</td>\n",
       "      <td>1.921792</td>\n",
       "    </tr>\n",
       "    <tr>\n",
       "      <th>18</th>\n",
       "      <td>3125</td>\n",
       "      <td>18</td>\n",
       "      <td>15.0</td>\n",
       "      <td>0.085427</td>\n",
       "    </tr>\n",
       "    <tr>\n",
       "      <th>19</th>\n",
       "      <td>3122</td>\n",
       "      <td>5</td>\n",
       "      <td>7.0</td>\n",
       "      <td>2.188210</td>\n",
       "    </tr>\n",
       "    <tr>\n",
       "      <th>20</th>\n",
       "      <td>5109</td>\n",
       "      <td>3</td>\n",
       "      <td>6.0</td>\n",
       "      <td>2.640831</td>\n",
       "    </tr>\n",
       "    <tr>\n",
       "      <th>21</th>\n",
       "      <td>5101</td>\n",
       "      <td>16</td>\n",
       "      <td>4.0</td>\n",
       "      <td>3.126108</td>\n",
       "    </tr>\n",
       "    <tr>\n",
       "      <th>22</th>\n",
       "      <td>5108</td>\n",
       "      <td>7</td>\n",
       "      <td>9.0</td>\n",
       "      <td>1.533468</td>\n",
       "    </tr>\n",
       "    <tr>\n",
       "      <th>23</th>\n",
       "      <td>5103</td>\n",
       "      <td>17</td>\n",
       "      <td>3.0</td>\n",
       "      <td>3.654181</td>\n",
       "    </tr>\n",
       "    <tr>\n",
       "      <th>24</th>\n",
       "      <td>5104</td>\n",
       "      <td>15</td>\n",
       "      <td>2.0</td>\n",
       "      <td>3.680375</td>\n",
       "    </tr>\n",
       "  </tbody>\n",
       "</table>\n",
       "</div>"
      ],
      "text/plain": [
       "   story_id  ranking  squad_score_rank  squad_score\n",
       "0      3117       22              19.0    -1.056141\n",
       "1      3105       14              10.0     1.040706\n",
       "2      3129       13               5.0     2.883301\n",
       "3      3111       19              18.0    -0.476632\n",
       "4      3118        4              21.0    -1.313509\n",
       "5      3127       23              23.0    -2.515487\n",
       "6      3120       25              17.0    -0.048599\n",
       "7      3121        8              25.0    -4.313544\n",
       "8      3119       20              20.0    -1.220811\n",
       "9      3126       12              14.0     0.115512\n",
       "10     3110       21              24.0    -3.728820\n",
       "11     3128       10              11.0     0.813886\n",
       "12     3131       24              22.0    -2.204231\n",
       "13     3106       11              13.0     0.266124\n",
       "14     3101        9              12.0     0.678006\n",
       "15     3108        6              16.0     0.034310\n",
       "16     3130        1               1.0     4.158134\n",
       "17     3112        2               8.0     1.921792\n",
       "18     3125       18              15.0     0.085427\n",
       "19     3122        5               7.0     2.188210\n",
       "20     5109        3               6.0     2.640831\n",
       "21     5101       16               4.0     3.126108\n",
       "22     5108        7               9.0     1.533468\n",
       "23     5103       17               3.0     3.654181\n",
       "24     5104       15               2.0     3.680375"
      ]
     },
     "execution_count": 204,
     "metadata": {},
     "output_type": "execute_result"
    }
   ],
   "source": [
    "# Look out ranking outcome for human transcriptions\n",
    "ranked_stories_h[[\"story_id\", \"ranking\", \"squad_score_rank\", \"squad_score\"]]"
   ]
  },
  {
   "cell_type": "code",
   "execution_count": 205,
   "metadata": {},
   "outputs": [
    {
     "data": {
      "text/html": [
       "<div>\n",
       "<style scoped>\n",
       "    .dataframe tbody tr th:only-of-type {\n",
       "        vertical-align: middle;\n",
       "    }\n",
       "\n",
       "    .dataframe tbody tr th {\n",
       "        vertical-align: top;\n",
       "    }\n",
       "\n",
       "    .dataframe thead th {\n",
       "        text-align: right;\n",
       "    }\n",
       "</style>\n",
       "<table border=\"1\" class=\"dataframe\">\n",
       "  <thead>\n",
       "    <tr style=\"text-align: right;\">\n",
       "      <th></th>\n",
       "      <th>story_id</th>\n",
       "      <th>ranking</th>\n",
       "      <th>squad_score_rank</th>\n",
       "      <th>squad_score</th>\n",
       "    </tr>\n",
       "  </thead>\n",
       "  <tbody>\n",
       "    <tr>\n",
       "      <th>0</th>\n",
       "      <td>3117</td>\n",
       "      <td>22</td>\n",
       "      <td>20.0</td>\n",
       "      <td>-0.524713</td>\n",
       "    </tr>\n",
       "    <tr>\n",
       "      <th>1</th>\n",
       "      <td>3105</td>\n",
       "      <td>14</td>\n",
       "      <td>15.0</td>\n",
       "      <td>-0.015317</td>\n",
       "    </tr>\n",
       "    <tr>\n",
       "      <th>2</th>\n",
       "      <td>3129</td>\n",
       "      <td>13</td>\n",
       "      <td>2.0</td>\n",
       "      <td>3.518937</td>\n",
       "    </tr>\n",
       "    <tr>\n",
       "      <th>3</th>\n",
       "      <td>3111</td>\n",
       "      <td>19</td>\n",
       "      <td>16.0</td>\n",
       "      <td>-0.106132</td>\n",
       "    </tr>\n",
       "    <tr>\n",
       "      <th>4</th>\n",
       "      <td>3118</td>\n",
       "      <td>4</td>\n",
       "      <td>19.0</td>\n",
       "      <td>-0.339213</td>\n",
       "    </tr>\n",
       "    <tr>\n",
       "      <th>5</th>\n",
       "      <td>3127</td>\n",
       "      <td>23</td>\n",
       "      <td>23.0</td>\n",
       "      <td>-2.627695</td>\n",
       "    </tr>\n",
       "    <tr>\n",
       "      <th>6</th>\n",
       "      <td>3120</td>\n",
       "      <td>25</td>\n",
       "      <td>18.0</td>\n",
       "      <td>-0.129501</td>\n",
       "    </tr>\n",
       "    <tr>\n",
       "      <th>7</th>\n",
       "      <td>3121</td>\n",
       "      <td>8</td>\n",
       "      <td>24.0</td>\n",
       "      <td>-3.485852</td>\n",
       "    </tr>\n",
       "    <tr>\n",
       "      <th>8</th>\n",
       "      <td>3119</td>\n",
       "      <td>20</td>\n",
       "      <td>21.0</td>\n",
       "      <td>-0.627751</td>\n",
       "    </tr>\n",
       "    <tr>\n",
       "      <th>9</th>\n",
       "      <td>3126</td>\n",
       "      <td>12</td>\n",
       "      <td>14.0</td>\n",
       "      <td>0.291703</td>\n",
       "    </tr>\n",
       "    <tr>\n",
       "      <th>10</th>\n",
       "      <td>3110</td>\n",
       "      <td>21</td>\n",
       "      <td>25.0</td>\n",
       "      <td>-3.504647</td>\n",
       "    </tr>\n",
       "    <tr>\n",
       "      <th>11</th>\n",
       "      <td>3128</td>\n",
       "      <td>10</td>\n",
       "      <td>10.0</td>\n",
       "      <td>0.927185</td>\n",
       "    </tr>\n",
       "    <tr>\n",
       "      <th>12</th>\n",
       "      <td>3131</td>\n",
       "      <td>24</td>\n",
       "      <td>22.0</td>\n",
       "      <td>-1.459256</td>\n",
       "    </tr>\n",
       "    <tr>\n",
       "      <th>13</th>\n",
       "      <td>3106</td>\n",
       "      <td>11</td>\n",
       "      <td>9.0</td>\n",
       "      <td>0.974312</td>\n",
       "    </tr>\n",
       "    <tr>\n",
       "      <th>14</th>\n",
       "      <td>3101</td>\n",
       "      <td>9</td>\n",
       "      <td>12.0</td>\n",
       "      <td>0.718573</td>\n",
       "    </tr>\n",
       "    <tr>\n",
       "      <th>15</th>\n",
       "      <td>3108</td>\n",
       "      <td>6</td>\n",
       "      <td>8.0</td>\n",
       "      <td>1.394483</td>\n",
       "    </tr>\n",
       "    <tr>\n",
       "      <th>16</th>\n",
       "      <td>3130</td>\n",
       "      <td>1</td>\n",
       "      <td>1.0</td>\n",
       "      <td>5.101426</td>\n",
       "    </tr>\n",
       "    <tr>\n",
       "      <th>17</th>\n",
       "      <td>3112</td>\n",
       "      <td>2</td>\n",
       "      <td>11.0</td>\n",
       "      <td>0.920208</td>\n",
       "    </tr>\n",
       "    <tr>\n",
       "      <th>18</th>\n",
       "      <td>3125</td>\n",
       "      <td>18</td>\n",
       "      <td>17.0</td>\n",
       "      <td>-0.110467</td>\n",
       "    </tr>\n",
       "    <tr>\n",
       "      <th>19</th>\n",
       "      <td>3122</td>\n",
       "      <td>5</td>\n",
       "      <td>4.0</td>\n",
       "      <td>2.656275</td>\n",
       "    </tr>\n",
       "    <tr>\n",
       "      <th>20</th>\n",
       "      <td>5109</td>\n",
       "      <td>3</td>\n",
       "      <td>6.0</td>\n",
       "      <td>1.683036</td>\n",
       "    </tr>\n",
       "    <tr>\n",
       "      <th>21</th>\n",
       "      <td>5101</td>\n",
       "      <td>16</td>\n",
       "      <td>5.0</td>\n",
       "      <td>2.477677</td>\n",
       "    </tr>\n",
       "    <tr>\n",
       "      <th>22</th>\n",
       "      <td>5108</td>\n",
       "      <td>7</td>\n",
       "      <td>7.0</td>\n",
       "      <td>1.520727</td>\n",
       "    </tr>\n",
       "    <tr>\n",
       "      <th>23</th>\n",
       "      <td>5103</td>\n",
       "      <td>17</td>\n",
       "      <td>3.0</td>\n",
       "      <td>3.477348</td>\n",
       "    </tr>\n",
       "    <tr>\n",
       "      <th>24</th>\n",
       "      <td>5104</td>\n",
       "      <td>15</td>\n",
       "      <td>13.0</td>\n",
       "      <td>0.588640</td>\n",
       "    </tr>\n",
       "  </tbody>\n",
       "</table>\n",
       "</div>"
      ],
      "text/plain": [
       "   story_id  ranking  squad_score_rank  squad_score\n",
       "0      3117       22              20.0    -0.524713\n",
       "1      3105       14              15.0    -0.015317\n",
       "2      3129       13               2.0     3.518937\n",
       "3      3111       19              16.0    -0.106132\n",
       "4      3118        4              19.0    -0.339213\n",
       "5      3127       23              23.0    -2.627695\n",
       "6      3120       25              18.0    -0.129501\n",
       "7      3121        8              24.0    -3.485852\n",
       "8      3119       20              21.0    -0.627751\n",
       "9      3126       12              14.0     0.291703\n",
       "10     3110       21              25.0    -3.504647\n",
       "11     3128       10              10.0     0.927185\n",
       "12     3131       24              22.0    -1.459256\n",
       "13     3106       11               9.0     0.974312\n",
       "14     3101        9              12.0     0.718573\n",
       "15     3108        6               8.0     1.394483\n",
       "16     3130        1               1.0     5.101426\n",
       "17     3112        2              11.0     0.920208\n",
       "18     3125       18              17.0    -0.110467\n",
       "19     3122        5               4.0     2.656275\n",
       "20     5109        3               6.0     1.683036\n",
       "21     5101       16               5.0     2.477677\n",
       "22     5108        7               7.0     1.520727\n",
       "23     5103       17               3.0     3.477348\n",
       "24     5104       15              13.0     0.588640"
      ]
     },
     "execution_count": 205,
     "metadata": {},
     "output_type": "execute_result"
    }
   ],
   "source": [
    "# Look out ranking outcome for API transcriptions\n",
    "ranked_stories_api[[\"story_id\", \"ranking\", \"squad_score_rank\", \"squad_score\"]]"
   ]
  },
  {
   "cell_type": "code",
   "execution_count": 222,
   "metadata": {},
   "outputs": [
    {
     "name": "stdout",
     "output_type": "stream",
     "text": [
      "Human transcriptions:\n",
      "MAE: 5.44 rankings\n",
      "MSE: 57.36\n",
      "\n",
      "API transcriptions:\n",
      "MAE: 4.48 rankings\n",
      "MSE: 44.8\n"
     ]
    }
   ],
   "source": [
    "# Calculate MAE & MSE for both \n",
    "y_true_h = ranked_stories_h[\"ranking\"]\n",
    "y_pred_h = ranked_stories_h[\"squad_score_rank\"]\n",
    "mae_h = mae(y_true_h, y_pred_h)\n",
    "mse_h = mse(y_true_h, y_pred_h)\n",
    "print(\"Human transcriptions:\")\n",
    "print(f\"MAE: {mae_h} rankings\")\n",
    "print(f\"MSE: {mse_h}\")\n",
    "\n",
    "y_true_api = ranked_stories_api[\"ranking\"]\n",
    "y_pred_api = ranked_stories_api[\"squad_score_rank\"]\n",
    "mae_api = mae(y_true_api, y_pred_api)\n",
    "mse_api = mse(y_true_api, y_pred_api)\n",
    "print(\"\\nAPI transcriptions:\")\n",
    "print(f\"MAE: {mae_api} rankings\")\n",
    "print(f\"MSE: {mse_api}\")"
   ]
  }
 ],
 "metadata": {
  "kernelspec": {
   "display_name": "Python 3.7.6 64-bit",
   "language": "python",
   "name": "python_defaultSpec_1600976509206"
  },
  "language_info": {
   "codemirror_mode": {
    "name": "ipython",
    "version": 3
   },
   "file_extension": ".py",
   "mimetype": "text/x-python",
   "name": "python",
   "nbconvert_exporter": "python",
   "pygments_lexer": "ipython3",
   "version": "3.7.6-final"
  }
 },
 "nbformat": 4,
 "nbformat_minor": 4
}